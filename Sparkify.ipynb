{
 "cells": [
  {
   "cell_type": "markdown",
   "metadata": {},
   "source": [
    "# Sparkify Project Workspace\n",
    "This workspace contains a tiny subset (128MB) of the full dataset available (12GB). Feel free to use this workspace to build your project, or to explore a smaller subset with Spark before deploying your cluster on the cloud. Instructions for setting up your Spark cluster is included in the last lesson of the Extracurricular Spark Course content.\n",
    "\n",
    "You can follow the steps below to guide your data analysis and model building portion of this project.\n",
    "\n",
    "## Project Overview\n",
    "\n",
    "Sparkify is music streaming service like Spotify. Users can listen music using free plan with ads, or they can upgrade to paid plan without ads. Other than listening music, users can vote up and down, add songs to playlist and add friends. If they don't like the paid plan, they can downgrade or they can completely cancel the plan\n",
    "\n",
    "All user activities are kept with log files. We are able to get informatin such as sessions, pages, user info, subscription plan etc.\n",
    "\n",
    "\n",
    "## Problem Statement\n",
    "\n",
    "Our aim to find which users are possibly going to leave our service. We'll define churned users with either \"downgrade\" or \"cancelled\" logs\n",
    "\n",
    "Definin potential churned user is a binary classification problem. we'll have only two label values as churned or non-churned\n",
    "The solution of our problem is to create a machine learning model that can provide prediction results achieving the project goal according to the chosen metrics as described in the next section.\n",
    "\n",
    "## Metrics\n",
    "\n",
    "Our dataset is imbalanced which means churned user data is low compared to non-churned users. Labels are not distributed equally so it's not enough use only accuracy of model.\n",
    "\n",
    "We'll use f1 score to check performance our model to balance precision and recall values"
   ]
  },
  {
   "cell_type": "code",
   "execution_count": 1,
   "metadata": {},
   "outputs": [],
   "source": [
    "# import libraries\n",
    "from pyspark.sql import SparkSession\n",
    "import pyspark.sql.functions as F\n",
    "from pyspark.sql.types import TimestampType, LongType, DateType, IntegerType\n",
    "import seaborn as sns\n",
    "import pandas as pd\n",
    "from matplotlib import pyplot as plt\n",
    "import time\n",
    "import numpy as np"
   ]
  },
  {
   "cell_type": "code",
   "execution_count": 2,
   "metadata": {},
   "outputs": [],
   "source": [
    "from pyspark.ml.feature import VectorAssembler, Normalizer, StandardScaler, MinMaxScaler\n",
    "from pyspark.ml import Pipeline\n",
    "from pyspark.ml.classification import LogisticRegression, RandomForestClassifier, GBTClassifier, \\\n",
    "    NaiveBayes, DecisionTreeClassifier"
   ]
  },
  {
   "cell_type": "code",
   "execution_count": 4,
   "metadata": {},
   "outputs": [
    {
     "name": "stderr",
     "output_type": "stream",
     "text": [
      "22/02/04 18:24:04 WARN Utils: Your hostname, uerten resolves to a loopback address: 127.0.1.1; using 10.0.2.15 instead (on interface enp0s3)\n",
      "22/02/04 18:24:04 WARN Utils: Set SPARK_LOCAL_IP if you need to bind to another address\n",
      "WARNING: An illegal reflective access operation has occurred\n",
      "WARNING: Illegal reflective access by org.apache.spark.unsafe.Platform (file:/home/uerten/.local/lib/python3.8/site-packages/pyspark/jars/spark-unsafe_2.12-3.2.1.jar) to constructor java.nio.DirectByteBuffer(long,int)\n",
      "WARNING: Please consider reporting this to the maintainers of org.apache.spark.unsafe.Platform\n",
      "WARNING: Use --illegal-access=warn to enable warnings of further illegal reflective access operations\n",
      "WARNING: All illegal access operations will be denied in a future release\n",
      "Using Spark's default log4j profile: org/apache/spark/log4j-defaults.properties\n",
      "Setting default log level to \"WARN\".\n",
      "To adjust logging level use sc.setLogLevel(newLevel). For SparkR, use setLogLevel(newLevel).\n",
      "22/02/04 18:24:04 WARN NativeCodeLoader: Unable to load native-hadoop library for your platform... using builtin-java classes where applicable\n"
     ]
    }
   ],
   "source": [
    "# create a Spark session\n",
    "spark = SparkSession.builder \\\n",
    "    .master(\"local\") \\\n",
    "    .appName(\"Sparkify\") \\\n",
    "    .getOrCreate()"
   ]
  },
  {
   "cell_type": "markdown",
   "metadata": {},
   "source": [
    "# Load and Clean Dataset\n",
    "In this workspace, the mini-dataset file is `mini_sparkify_event_data.json`. Load and clean the dataset, checking for invalid or missing data - for example, records without userids or sessionids. "
   ]
  },
  {
   "cell_type": "code",
   "execution_count": 5,
   "metadata": {},
   "outputs": [
    {
     "name": "stderr",
     "output_type": "stream",
     "text": [
      "                                                                                \r"
     ]
    }
   ],
   "source": [
    "df = spark.read.json(\"mini_sparkify_event_data.json\")"
   ]
  },
  {
   "cell_type": "code",
   "execution_count": 6,
   "metadata": {},
   "outputs": [
    {
     "data": {
      "text/plain": [
       "DataFrame[artist: string, auth: string, firstName: string, gender: string, itemInSession: bigint, lastName: string, length: double, level: string, location: string, method: string, page: string, registration: bigint, sessionId: bigint, song: string, status: bigint, ts: bigint, userAgent: string, userId: string]"
      ]
     },
     "execution_count": 6,
     "metadata": {},
     "output_type": "execute_result"
    }
   ],
   "source": [
    "df.persist()"
   ]
  },
  {
   "cell_type": "code",
   "execution_count": 7,
   "metadata": {},
   "outputs": [
    {
     "name": "stdout",
     "output_type": "stream",
     "text": [
      "root\n",
      " |-- artist: string (nullable = true)\n",
      " |-- auth: string (nullable = true)\n",
      " |-- firstName: string (nullable = true)\n",
      " |-- gender: string (nullable = true)\n",
      " |-- itemInSession: long (nullable = true)\n",
      " |-- lastName: string (nullable = true)\n",
      " |-- length: double (nullable = true)\n",
      " |-- level: string (nullable = true)\n",
      " |-- location: string (nullable = true)\n",
      " |-- method: string (nullable = true)\n",
      " |-- page: string (nullable = true)\n",
      " |-- registration: long (nullable = true)\n",
      " |-- sessionId: long (nullable = true)\n",
      " |-- song: string (nullable = true)\n",
      " |-- status: long (nullable = true)\n",
      " |-- ts: long (nullable = true)\n",
      " |-- userAgent: string (nullable = true)\n",
      " |-- userId: string (nullable = true)\n",
      "\n"
     ]
    }
   ],
   "source": [
    "df.printSchema()"
   ]
  },
  {
   "cell_type": "code",
   "execution_count": 8,
   "metadata": {},
   "outputs": [
    {
     "name": "stderr",
     "output_type": "stream",
     "text": [
      "                                                                                \r"
     ]
    },
    {
     "data": {
      "text/plain": [
       "286500"
      ]
     },
     "execution_count": 8,
     "metadata": {},
     "output_type": "execute_result"
    }
   ],
   "source": [
    "df.count()"
   ]
  },
  {
   "cell_type": "code",
   "execution_count": 9,
   "metadata": {
    "scrolled": true
   },
   "outputs": [
    {
     "name": "stdout",
     "output_type": "stream",
     "text": [
      "Null or empty cell counts:\n",
      "artist : 58392\n",
      "auth : 0\n",
      "firstName : 8346\n",
      "gender : 8346\n",
      "itemInSession : 0\n",
      "lastName : 8346\n",
      "length : 58392\n",
      "level : 0\n",
      "location : 8346\n",
      "method : 0\n",
      "page : 0\n",
      "registration : 8346\n",
      "sessionId : 0\n",
      "song : 58392\n",
      "status : 0\n",
      "ts : 0\n",
      "userAgent : 8346\n",
      "userId : 8346\n"
     ]
    }
   ],
   "source": [
    "print(\"Null or empty cell counts:\")\n",
    "for column in df.columns:\n",
    "    print(column, \":\", df.where((df[column] == \"\") | (df[column].isNull())).count())"
   ]
  },
  {
   "cell_type": "code",
   "execution_count": 10,
   "metadata": {},
   "outputs": [],
   "source": [
    "# filter empty and null rows of userId and sessionId columns\n",
    "df = df.filter((df.userId != \"\") & (~df.userId.isNull()))"
   ]
  },
  {
   "cell_type": "code",
   "execution_count": 11,
   "metadata": {
    "scrolled": true
   },
   "outputs": [
    {
     "name": "stdout",
     "output_type": "stream",
     "text": [
      "Null or empty cell counts:\n",
      "artist : 50046\n",
      "auth : 0\n",
      "firstName : 0\n",
      "gender : 0\n",
      "itemInSession : 0\n",
      "lastName : 0\n",
      "length : 50046\n",
      "level : 0\n",
      "location : 0\n",
      "method : 0\n",
      "page : 0\n",
      "registration : 0\n",
      "sessionId : 0\n",
      "song : 50046\n",
      "status : 0\n",
      "ts : 0\n",
      "userAgent : 0\n",
      "userId : 0\n"
     ]
    }
   ],
   "source": [
    "print(\"Null or empty cell counts:\")\n",
    "for column in df.columns:\n",
    "    print(column, \":\", df.where((df[column] == \"\") | (df[column].isNull())).count())"
   ]
  },
  {
   "cell_type": "code",
   "execution_count": 12,
   "metadata": {},
   "outputs": [
    {
     "name": "stdout",
     "output_type": "stream",
     "text": [
      "+-------+-----------------+\n",
      "|summary|           userId|\n",
      "+-------+-----------------+\n",
      "|  count|           278154|\n",
      "|   mean|59682.02278593872|\n",
      "| stddev|109091.9499991047|\n",
      "|    min|               10|\n",
      "|    max|               99|\n",
      "+-------+-----------------+\n",
      "\n"
     ]
    }
   ],
   "source": [
    "df.select(\"userId\").describe().show()"
   ]
  },
  {
   "cell_type": "code",
   "execution_count": 13,
   "metadata": {},
   "outputs": [
    {
     "data": {
      "text/plain": [
       "278154"
      ]
     },
     "execution_count": 13,
     "metadata": {},
     "output_type": "execute_result"
    }
   ],
   "source": [
    "df.count()"
   ]
  },
  {
   "cell_type": "code",
   "execution_count": 14,
   "metadata": {},
   "outputs": [
    {
     "name": "stdout",
     "output_type": "stream",
     "text": [
      "+--------------------+------+\n",
      "|                page| count|\n",
      "+--------------------+------+\n",
      "|            NextSong|228108|\n",
      "|           Thumbs Up| 12551|\n",
      "|                Home| 10082|\n",
      "|     Add to Playlist|  6526|\n",
      "|          Add Friend|  4277|\n",
      "|         Roll Advert|  3933|\n",
      "|              Logout|  3226|\n",
      "|         Thumbs Down|  2546|\n",
      "|           Downgrade|  2055|\n",
      "|            Settings|  1514|\n",
      "|                Help|  1454|\n",
      "|             Upgrade|   499|\n",
      "|               About|   495|\n",
      "|       Save Settings|   310|\n",
      "|               Error|   252|\n",
      "|      Submit Upgrade|   159|\n",
      "|    Submit Downgrade|    63|\n",
      "|              Cancel|    52|\n",
      "|Cancellation Conf...|    52|\n",
      "+--------------------+------+\n",
      "\n"
     ]
    }
   ],
   "source": [
    "df.groupby(\"page\").count().sort(F.desc(\"count\")).show()"
   ]
  },
  {
   "cell_type": "code",
   "execution_count": 15,
   "metadata": {},
   "outputs": [
    {
     "name": "stdout",
     "output_type": "stream",
     "text": [
      "+---------+------+\n",
      "|     auth| count|\n",
      "+---------+------+\n",
      "|Logged In|278102|\n",
      "|Cancelled|    52|\n",
      "+---------+------+\n",
      "\n"
     ]
    }
   ],
   "source": [
    "df.groupby(\"auth\").count().sort(F.desc(\"count\")).show()"
   ]
  },
  {
   "cell_type": "code",
   "execution_count": 16,
   "metadata": {},
   "outputs": [
    {
     "name": "stdout",
     "output_type": "stream",
     "text": [
      "+-----+------+\n",
      "|level| count|\n",
      "+-----+------+\n",
      "| paid|222433|\n",
      "| free| 55721|\n",
      "+-----+------+\n",
      "\n"
     ]
    }
   ],
   "source": [
    "df.groupby(\"level\").count().sort(F.desc(\"count\")).show()"
   ]
  },
  {
   "cell_type": "code",
   "execution_count": 17,
   "metadata": {},
   "outputs": [
    {
     "name": "stdout",
     "output_type": "stream",
     "text": [
      "+------+------+\n",
      "|method| count|\n",
      "+------+------+\n",
      "|   PUT|257818|\n",
      "|   GET| 20336|\n",
      "+------+------+\n",
      "\n"
     ]
    }
   ],
   "source": [
    "df.groupby(\"method\").count().sort(F.desc(\"count\")).show()"
   ]
  },
  {
   "cell_type": "code",
   "execution_count": 18,
   "metadata": {},
   "outputs": [
    {
     "name": "stdout",
     "output_type": "stream",
     "text": [
      "+------+------+\n",
      "|status| count|\n",
      "+------+------+\n",
      "|   200|254718|\n",
      "|   307| 23184|\n",
      "|   404|   252|\n",
      "+------+------+\n",
      "\n"
     ]
    }
   ],
   "source": [
    "df.groupby(\"status\").count().sort(F.desc(\"count\")).show()"
   ]
  },
  {
   "cell_type": "code",
   "execution_count": 19,
   "metadata": {},
   "outputs": [
    {
     "name": "stdout",
     "output_type": "stream",
     "text": [
      "+------+------+\n",
      "|gender| count|\n",
      "+------+------+\n",
      "|     F|154578|\n",
      "|     M|123576|\n",
      "+------+------+\n",
      "\n"
     ]
    }
   ],
   "source": [
    "# genders by transactions\n",
    "df.groupby(\"gender\").count().sort(F.desc(\"count\")).show()"
   ]
  },
  {
   "cell_type": "code",
   "execution_count": 20,
   "metadata": {},
   "outputs": [
    {
     "name": "stderr",
     "output_type": "stream",
     "text": [
      "[Stage 136:>                                                        (0 + 1) / 1]\r"
     ]
    },
    {
     "name": "stdout",
     "output_type": "stream",
     "text": [
      "+------+-----+\n",
      "|gender|count|\n",
      "+------+-----+\n",
      "|     M|  121|\n",
      "|     F|  104|\n",
      "+------+-----+\n",
      "\n"
     ]
    },
    {
     "name": "stderr",
     "output_type": "stream",
     "text": [
      "                                                                                \r"
     ]
    }
   ],
   "source": [
    "# genders by user\n",
    "df.dropDuplicates([\"userId\"]).groupby(\"gender\").count().sort(F.desc(\"count\")).show()"
   ]
  },
  {
   "cell_type": "code",
   "execution_count": 21,
   "metadata": {},
   "outputs": [
    {
     "name": "stdout",
     "output_type": "stream",
     "text": [
      "+-------------+-----+\n",
      "|itemInSession|count|\n",
      "+-------------+-----+\n",
      "|            2| 2941|\n",
      "|            3| 2917|\n",
      "|            4| 2887|\n",
      "|            5| 2836|\n",
      "|            1| 2818|\n",
      "|            6| 2803|\n",
      "|            7| 2776|\n",
      "|            8| 2735|\n",
      "|            9| 2693|\n",
      "|            0| 2689|\n",
      "|           10| 2633|\n",
      "|           11| 2596|\n",
      "|           12| 2556|\n",
      "|           13| 2513|\n",
      "|           14| 2485|\n",
      "|           15| 2456|\n",
      "|           16| 2428|\n",
      "|           17| 2385|\n",
      "|           18| 2345|\n",
      "|           19| 2322|\n",
      "+-------------+-----+\n",
      "only showing top 20 rows\n",
      "\n"
     ]
    }
   ],
   "source": [
    "df.groupby(\"itemInSession\").count().sort(F.desc(\"count\")).show()"
   ]
  },
  {
   "cell_type": "code",
   "execution_count": 22,
   "metadata": {},
   "outputs": [
    {
     "name": "stdout",
     "output_type": "stream",
     "text": [
      "+------+-----+\n",
      "|userId|count|\n",
      "+------+-----+\n",
      "|    39|  107|\n",
      "|    92|   86|\n",
      "|300011|   76|\n",
      "|200023|   76|\n",
      "|   140|   71|\n",
      "|300017|   63|\n",
      "|300021|   58|\n",
      "|    42|   47|\n",
      "|    85|   41|\n",
      "|    35|   38|\n",
      "|    54|   37|\n",
      "|200020|   36|\n",
      "|   100|   35|\n",
      "|    29|   34|\n",
      "|300015|   33|\n",
      "|    95|   33|\n",
      "|    13|   33|\n",
      "|    30|   32|\n",
      "|     9|   31|\n",
      "|   126|   30|\n",
      "+------+-----+\n",
      "only showing top 20 rows\n",
      "\n"
     ]
    }
   ],
   "source": [
    "# session counts by user\n",
    "df.select(\"userId\", \"sessionId\") \\\n",
    "    .groupby(\"userId\") \\\n",
    "    .agg(F.countDistinct(\"sessionId\").alias(\"count\")) \\\n",
    "    .sort(\"count\", ascending=False) \\\n",
    "    .show()"
   ]
  },
  {
   "cell_type": "markdown",
   "metadata": {},
   "source": [
    "# Exploratory Data Analysis\n",
    "When you're working with the full dataset, perform EDA by loading a small subset of the data and doing basic manipulations within Spark. In this workspace, you are already provided a small subset of data you can explore.\n",
    "\n",
    "### Define Churn\n",
    "\n",
    "Once you've done some preliminary analysis, create a column `Churn` to use as the label for your model. I suggest using the `Cancellation Confirmation` events to define your churn, which happen for both paid and free users. As a bonus task, you can also look into the `Downgrade` events.\n",
    "\n",
    "### Explore Data\n",
    "Once you've defined churn, perform some exploratory data analysis to observe the behavior for users who stayed vs users who churned. You can start by exploring aggregates on these two groups of users, observing how much of a specific action they experienced per a certain time unit or number of songs played."
   ]
  },
  {
   "cell_type": "code",
   "execution_count": 23,
   "metadata": {},
   "outputs": [
    {
     "name": "stdout",
     "output_type": "stream",
     "text": [
      "+--------------------+---------+---------+------+-------------+--------+---------+-----+--------------------+------+---------------+-------------+---------+--------------------+------+-------------+--------------------+------+-----+\n",
      "|              artist|     auth|firstName|gender|itemInSession|lastName|   length|level|            location|method|           page| registration|sessionId|                song|status|           ts|           userAgent|userId|Churn|\n",
      "+--------------------+---------+---------+------+-------------+--------+---------+-----+--------------------+------+---------------+-------------+---------+--------------------+------+-------------+--------------------+------+-----+\n",
      "|      Martha Tilston|Logged In|    Colin|     M|           50| Freeman|277.89016| paid|     Bakersfield, CA|   PUT|       NextSong|1538173362000|       29|           Rockpools|   200|1538352117000|Mozilla/5.0 (Wind...|    30|    0|\n",
      "|    Five Iron Frenzy|Logged In|    Micah|     M|           79|    Long|236.09424| free|Boston-Cambridge-...|   PUT|       NextSong|1538331630000|        8|              Canada|   200|1538352180000|\"Mozilla/5.0 (Win...|     9|    0|\n",
      "|        Adam Lambert|Logged In|    Colin|     M|           51| Freeman| 282.8273| paid|     Bakersfield, CA|   PUT|       NextSong|1538173362000|       29|   Time For Miracles|   200|1538352394000|Mozilla/5.0 (Wind...|    30|    0|\n",
      "|              Enigma|Logged In|    Micah|     M|           80|    Long|262.71302| free|Boston-Cambridge-...|   PUT|       NextSong|1538331630000|        8|Knocking On Forbi...|   200|1538352416000|\"Mozilla/5.0 (Win...|     9|    0|\n",
      "|           Daft Punk|Logged In|    Colin|     M|           52| Freeman|223.60771| paid|     Bakersfield, CA|   PUT|       NextSong|1538173362000|       29|Harder Better Fas...|   200|1538352676000|Mozilla/5.0 (Wind...|    30|    0|\n",
      "|The All-American ...|Logged In|    Micah|     M|           81|    Long|208.29995| free|Boston-Cambridge-...|   PUT|       NextSong|1538331630000|        8|      Don't Leave Me|   200|1538352678000|\"Mozilla/5.0 (Win...|     9|    0|\n",
      "|The Velvet Underg...|Logged In|    Micah|     M|           82|    Long|260.46649| free|Boston-Cambridge-...|   PUT|       NextSong|1538331630000|        8|         Run Run Run|   200|1538352886000|\"Mozilla/5.0 (Win...|     9|    0|\n",
      "|        Starflyer 59|Logged In|    Colin|     M|           53| Freeman|185.44281| paid|     Bakersfield, CA|   PUT|       NextSong|1538173362000|       29|Passengers (Old A...|   200|1538352899000|Mozilla/5.0 (Wind...|    30|    0|\n",
      "|                null|Logged In|    Colin|     M|           54| Freeman|     null| paid|     Bakersfield, CA|   PUT|Add to Playlist|1538173362000|       29|                null|   200|1538352905000|Mozilla/5.0 (Wind...|    30|    0|\n",
      "|            Frumpies|Logged In|    Colin|     M|           55| Freeman|134.47791| paid|     Bakersfield, CA|   PUT|       NextSong|1538173362000|       29|          Fuck Kitty|   200|1538353084000|Mozilla/5.0 (Wind...|    30|    0|\n",
      "+--------------------+---------+---------+------+-------------+--------+---------+-----+--------------------+------+---------------+-------------+---------+--------------------+------+-------------+--------------------+------+-----+\n",
      "only showing top 10 rows\n",
      "\n"
     ]
    }
   ],
   "source": [
    "df.withColumn('Churn', F.when(df.page == \"Cancellation Confirmation\", 1).otherwise(0)).show(10)"
   ]
  },
  {
   "cell_type": "code",
   "execution_count": 24,
   "metadata": {},
   "outputs": [],
   "source": [
    "# get cancelled and downgraded user ids\n",
    "cancelledIds = df.filter(df.page == \"Cancellation Confirmation\").select(\"userId\").dropDuplicates()\n",
    "downgradedIds = df.filter(df.page == \"Submit Downgrade\").select(\"userId\").dropDuplicates()"
   ]
  },
  {
   "cell_type": "code",
   "execution_count": 25,
   "metadata": {},
   "outputs": [
    {
     "name": "stdout",
     "output_type": "stream",
     "text": [
      "Count of cancelled ids: 52\n",
      "Count of downgraded ids: 49\n"
     ]
    }
   ],
   "source": [
    "print(\"Count of cancelled ids:\",cancelledIds.count())\n",
    "print(\"Count of downgraded ids:\",downgradedIds.count())"
   ]
  },
  {
   "cell_type": "code",
   "execution_count": 26,
   "metadata": {},
   "outputs": [],
   "source": [
    "# add label column and set 1 if user is cancelled user\n",
    "df_churn = df.withColumn('Churn', F.when(df.userId.isin([row.userId for row in cancelledIds.collect()]), 1).otherwise(0))"
   ]
  },
  {
   "cell_type": "code",
   "execution_count": 27,
   "metadata": {},
   "outputs": [],
   "source": [
    "# add separate date & time columns\n",
    "df_churn = df_churn.withColumn(\"datetime\", F.from_unixtime(F.col('ts').cast(LongType())/1000).cast(TimestampType()))\n",
    "df_churn = df_churn.withColumn('month', F.month(F.col('datetime')))\n",
    "df_churn = df_churn.withColumn('hour', F.hour(F.col('datetime')))\n",
    "df_churn = df_churn.withColumn('date', F.from_unixtime(F.col('ts')/1000).cast(DateType()))"
   ]
  },
  {
   "cell_type": "code",
   "execution_count": 28,
   "metadata": {},
   "outputs": [
    {
     "name": "stdout",
     "output_type": "stream",
     "text": [
      "+--------------------+---------+---------+------+-------------+--------+---------+-----+--------------------+------+---------------+-------------+---------+--------------------+------+-------------+--------------------+------+-----+-------------------+-----+----+----------+\n",
      "|              artist|     auth|firstName|gender|itemInSession|lastName|   length|level|            location|method|           page| registration|sessionId|                song|status|           ts|           userAgent|userId|Churn|           datetime|month|hour|      date|\n",
      "+--------------------+---------+---------+------+-------------+--------+---------+-----+--------------------+------+---------------+-------------+---------+--------------------+------+-------------+--------------------+------+-----+-------------------+-----+----+----------+\n",
      "|      Martha Tilston|Logged In|    Colin|     M|           50| Freeman|277.89016| paid|     Bakersfield, CA|   PUT|       NextSong|1538173362000|       29|           Rockpools|   200|1538352117000|Mozilla/5.0 (Wind...|    30|    0|2018-10-01 03:01:57|   10|   3|2018-10-01|\n",
      "|    Five Iron Frenzy|Logged In|    Micah|     M|           79|    Long|236.09424| free|Boston-Cambridge-...|   PUT|       NextSong|1538331630000|        8|              Canada|   200|1538352180000|\"Mozilla/5.0 (Win...|     9|    0|2018-10-01 03:03:00|   10|   3|2018-10-01|\n",
      "|        Adam Lambert|Logged In|    Colin|     M|           51| Freeman| 282.8273| paid|     Bakersfield, CA|   PUT|       NextSong|1538173362000|       29|   Time For Miracles|   200|1538352394000|Mozilla/5.0 (Wind...|    30|    0|2018-10-01 03:06:34|   10|   3|2018-10-01|\n",
      "|              Enigma|Logged In|    Micah|     M|           80|    Long|262.71302| free|Boston-Cambridge-...|   PUT|       NextSong|1538331630000|        8|Knocking On Forbi...|   200|1538352416000|\"Mozilla/5.0 (Win...|     9|    0|2018-10-01 03:06:56|   10|   3|2018-10-01|\n",
      "|           Daft Punk|Logged In|    Colin|     M|           52| Freeman|223.60771| paid|     Bakersfield, CA|   PUT|       NextSong|1538173362000|       29|Harder Better Fas...|   200|1538352676000|Mozilla/5.0 (Wind...|    30|    0|2018-10-01 03:11:16|   10|   3|2018-10-01|\n",
      "|The All-American ...|Logged In|    Micah|     M|           81|    Long|208.29995| free|Boston-Cambridge-...|   PUT|       NextSong|1538331630000|        8|      Don't Leave Me|   200|1538352678000|\"Mozilla/5.0 (Win...|     9|    0|2018-10-01 03:11:18|   10|   3|2018-10-01|\n",
      "|The Velvet Underg...|Logged In|    Micah|     M|           82|    Long|260.46649| free|Boston-Cambridge-...|   PUT|       NextSong|1538331630000|        8|         Run Run Run|   200|1538352886000|\"Mozilla/5.0 (Win...|     9|    0|2018-10-01 03:14:46|   10|   3|2018-10-01|\n",
      "|        Starflyer 59|Logged In|    Colin|     M|           53| Freeman|185.44281| paid|     Bakersfield, CA|   PUT|       NextSong|1538173362000|       29|Passengers (Old A...|   200|1538352899000|Mozilla/5.0 (Wind...|    30|    0|2018-10-01 03:14:59|   10|   3|2018-10-01|\n",
      "|                null|Logged In|    Colin|     M|           54| Freeman|     null| paid|     Bakersfield, CA|   PUT|Add to Playlist|1538173362000|       29|                null|   200|1538352905000|Mozilla/5.0 (Wind...|    30|    0|2018-10-01 03:15:05|   10|   3|2018-10-01|\n",
      "|            Frumpies|Logged In|    Colin|     M|           55| Freeman|134.47791| paid|     Bakersfield, CA|   PUT|       NextSong|1538173362000|       29|          Fuck Kitty|   200|1538353084000|Mozilla/5.0 (Wind...|    30|    0|2018-10-01 03:18:04|   10|   3|2018-10-01|\n",
      "|        Britt Nicole|Logged In|    Micah|     M|           83|    Long| 229.8771| free|Boston-Cambridge-...|   PUT|       NextSong|1538331630000|        8|   Walk On The Water|   200|1538353146000|\"Mozilla/5.0 (Win...|     9|    0|2018-10-01 03:19:06|   10|   3|2018-10-01|\n",
      "|                null|Logged In|    Micah|     M|           84|    Long|     null| free|Boston-Cambridge-...|   GET|    Roll Advert|1538331630000|        8|                null|   200|1538353150000|\"Mozilla/5.0 (Win...|     9|    0|2018-10-01 03:19:10|   10|   3|2018-10-01|\n",
      "|Edward Sharpe & T...|Logged In|    Colin|     M|           56| Freeman|223.58159| paid|     Bakersfield, CA|   PUT|       NextSong|1538173362000|       29|                Jade|   200|1538353218000|Mozilla/5.0 (Wind...|    30|    0|2018-10-01 03:20:18|   10|   3|2018-10-01|\n",
      "|               Tesla|Logged In|    Micah|     M|           85|    Long|201.06404| free|Boston-Cambridge-...|   PUT|       NextSong|1538331630000|        8|      Gettin' Better|   200|1538353375000|\"Mozilla/5.0 (Win...|     9|    0|2018-10-01 03:22:55|   10|   3|2018-10-01|\n",
      "|                null|Logged In|    Micah|     M|           86|    Long|     null| free|Boston-Cambridge-...|   PUT|      Thumbs Up|1538331630000|        8|                null|   307|1538353376000|\"Mozilla/5.0 (Win...|     9|    0|2018-10-01 03:22:56|   10|   3|2018-10-01|\n",
      "|         Stan Mosley|Logged In|    Colin|     M|           57| Freeman|246.69995| paid|     Bakersfield, CA|   PUT|       NextSong|1538173362000|       29|   So-Called Friends|   200|1538353441000|Mozilla/5.0 (Wind...|    30|    0|2018-10-01 03:24:01|   10|   3|2018-10-01|\n",
      "|Florence + The Ma...|Logged In|    Micah|     M|           87|    Long|168.64608| free|Boston-Cambridge-...|   PUT|       NextSong|1538331630000|        8| You've Got The Love|   200|1538353576000|\"Mozilla/5.0 (Win...|     9|    0|2018-10-01 03:26:16|   10|   3|2018-10-01|\n",
      "|   Tokyo Police Club|Logged In|  Ashlynn|     F|            0|Williams| 166.1122| free|     Tallahassee, FL|   PUT|       NextSong|1537365219000|      217|Citizens Of Tomorrow|   200|1538353668000|\"Mozilla/5.0 (Mac...|    74|    0|2018-10-01 03:27:48|   10|   3|2018-10-01|\n",
      "|             Orishas|Logged In|    Colin|     M|           58| Freeman|222.22322| paid|     Bakersfield, CA|   PUT|       NextSong|1538173362000|       29|           Represent|   200|1538353687000|Mozilla/5.0 (Wind...|    30|    0|2018-10-01 03:28:07|   10|   3|2018-10-01|\n",
      "|             Ratatat|Logged In|    Micah|     M|           88|    Long|229.77261| free|Boston-Cambridge-...|   PUT|       NextSong|1538331630000|        8|              Swisha|   200|1538353744000|\"Mozilla/5.0 (Win...|     9|    0|2018-10-01 03:29:04|   10|   3|2018-10-01|\n",
      "+--------------------+---------+---------+------+-------------+--------+---------+-----+--------------------+------+---------------+-------------+---------+--------------------+------+-------------+--------------------+------+-----+-------------------+-----+----+----------+\n",
      "only showing top 20 rows\n",
      "\n"
     ]
    }
   ],
   "source": [
    "df_churn.show()"
   ]
  },
  {
   "cell_type": "code",
   "execution_count": 29,
   "metadata": {},
   "outputs": [
    {
     "name": "stderr",
     "output_type": "stream",
     "text": [
      "                                                                                \r"
     ]
    },
    {
     "data": {
      "text/plain": [
       "<AxesSubplot:xlabel='hour', ylabel='songcount'>"
      ]
     },
     "execution_count": 29,
     "metadata": {},
     "output_type": "execute_result"
    },
    {
     "data": {
      "image/png": "[encoded data removed]",
      "text/plain": [
       "<Figure size 432x288 with 1 Axes>"
      ]
     },
     "metadata": {
      "needs_background": "light"
     },
     "output_type": "display_data"
    }
   ],
   "source": [
    "# Played song count of Churned vs Non-Churned users by time of day\n",
    "\n",
    "sns.lineplot(data=df_churn.filter(df_churn.page == \"NextSong\") \\\n",
    "    .groupby([\"Churn\",\"hour\"]) \\\n",
    "    .agg(F.count(\"page\").alias(\"songcount\")) \\\n",
    "    .sort([\"Churn\", \"hour\"]).toPandas(), x=\"hour\", y=\"songcount\", hue=\"Churn\")"
   ]
  },
  {
   "cell_type": "code",
   "execution_count": 30,
   "metadata": {},
   "outputs": [
    {
     "data": {
      "text/plain": [
       "<AxesSubplot:xlabel='hour', ylabel='mean_songcount'>"
      ]
     },
     "execution_count": 30,
     "metadata": {},
     "output_type": "execute_result"
    },
    {
     "data": {
      "image/png": "[encoded data removed]",
      "text/plain": [
       "<Figure size 432x288 with 1 Axes>"
      ]
     },
     "metadata": {
      "needs_background": "light"
     },
     "output_type": "display_data"
    }
   ],
   "source": [
    "# Played song mean count of Churned vs Non-Churned users by time of day\n",
    "\n",
    "sns.lineplot(data=df_churn.filter(df_churn.page == \"NextSong\") \\\n",
    "    .groupby([\"Churn\",\"userId\",\"hour\"]) \\\n",
    "    .agg(F.count(\"page\").alias(\"songcount\")) \\\n",
    "    .groupby(\"Churn\",\"hour\") \\\n",
    "    .agg(F.mean(\"songcount\").alias(\"mean_songcount\")) \\\n",
    "    .sort([\"Churn\", \"hour\"]).toPandas(), x=\"hour\", y=\"mean_songcount\", hue=\"Churn\")"
   ]
  },
  {
   "cell_type": "code",
   "execution_count": 31,
   "metadata": {},
   "outputs": [
    {
     "name": "stdout",
     "output_type": "stream",
     "text": [
      "+-----+------------------------+\n",
      "|Churn|mean_days_since_register|\n",
      "+-----+------------------------+\n",
      "|    1|       56.80769230769231|\n",
      "|    0|       86.14450867052022|\n",
      "+-----+------------------------+\n",
      "\n"
     ]
    }
   ],
   "source": [
    "# days passed since registration day of users\n",
    "df_churn.groupby(\"Churn\",\"userId\") \\\n",
    "    .agg((((F.max(\"ts\") - F.max(\"registration\"))/(1000*60*60*24)).cast('integer')).alias(\"days_since_register\")) \\\n",
    "    .groupby(\"Churn\") \\\n",
    "    .agg(F.mean(\"days_since_register\").alias(\"mean_days_since_register\")) \\\n",
    "    .show()"
   ]
  },
  {
   "cell_type": "code",
   "execution_count": 32,
   "metadata": {},
   "outputs": [
    {
     "name": "stdout",
     "output_type": "stream",
     "text": [
      "+-----+-----+-----+\n",
      "|Churn|level|count|\n",
      "+-----+-----+-----+\n",
      "|    0| free|   59|\n",
      "|    1| free|   21|\n",
      "|    0| paid|  114|\n",
      "|    1| paid|   31|\n",
      "+-----+-----+-----+\n",
      "\n"
     ]
    }
   ],
   "source": [
    "# latest account level of users\n",
    "df_churn.sort(\"ts\") \\\n",
    "    .groupby(\"Churn\",\"userId\") \\\n",
    "    .agg(F.last(\"level\").alias(\"level\")) \\\n",
    "    .groupby(\"Churn\", \"level\") \\\n",
    "    .agg(F.count(\"userId\").alias(\"count\")) \\\n",
    "    .sort([\"level\",\"Churn\"]).show()"
   ]
  },
  {
   "cell_type": "code",
   "execution_count": 33,
   "metadata": {},
   "outputs": [
    {
     "name": "stdout",
     "output_type": "stream",
     "text": [
      "+-----+-------------------------+------------------+\n",
      "|Churn|page                     |mean_pagecount    |\n",
      "+-----+-------------------------+------------------+\n",
      "|0    |About                    |3.5403225806451615|\n",
      "|1    |About                    |1.8064516129032258|\n",
      "|0    |Add Friend               |22.47530864197531 |\n",
      "|1    |Add Friend               |14.454545454545455|\n",
      "|0    |Add to Playlist          |33.26060606060606 |\n",
      "|1    |Add to Playlist          |20.76             |\n",
      "|1    |Cancel                   |1.0               |\n",
      "|1    |Cancellation Confirmation|1.0               |\n",
      "|0    |Downgrade                |14.436974789915967|\n",
      "|1    |Downgrade                |9.628571428571428 |\n",
      "|0    |Error                    |2.3157894736842106|\n",
      "|1    |Error                    |1.4545454545454546|\n",
      "|0    |Help                     |8.154362416107382 |\n",
      "|1    |Help                     |5.558139534883721 |\n",
      "|0    |Home                     |48.895348837209305|\n",
      "|1    |Home                     |32.78431372549019 |\n",
      "|0    |Logout                   |16.005988023952096|\n",
      "|1    |Logout                   |12.021739130434783|\n",
      "|0    |NextSong                 |1108.1734104046243|\n",
      "|1    |NextSong                 |699.8846153846154 |\n",
      "|0    |Roll Advert              |18.89171974522293 |\n",
      "|1    |Roll Advert              |19.34             |\n",
      "|0    |Save Settings            |2.4705882352941178|\n",
      "|1    |Save Settings            |1.9333333333333333|\n",
      "|0    |Settings                 |8.18421052631579  |\n",
      "|1    |Settings                 |6.27906976744186  |\n",
      "|0    |Submit Downgrade         |1.35              |\n",
      "|1    |Submit Downgrade         |1.0               |\n",
      "|0    |Submit Upgrade           |1.2450980392156863|\n",
      "|1    |Submit Upgrade           |1.103448275862069 |\n",
      "|0    |Thumbs Down              |13.225806451612904|\n",
      "|1    |Thumbs Down              |10.333333333333334|\n",
      "|0    |Thumbs Up                |62.89411764705882 |\n",
      "|1    |Thumbs Up                |37.18             |\n",
      "|0    |Upgrade                  |2.954198473282443 |\n",
      "|1    |Upgrade                  |3.027027027027027 |\n",
      "+-----+-------------------------+------------------+\n",
      "\n"
     ]
    }
   ],
   "source": [
    "# event count of all pages of users\n",
    "df_churn.groupby([\"Churn\",\"userId\",\"page\"]) \\\n",
    "    .agg(F.count(\"page\").alias(\"count\")) \\\n",
    "    .groupby([\"Churn\",\"page\"]) \\\n",
    "    .agg(F.mean(\"count\").alias(\"mean_pagecount\")) \\\n",
    "    .sort([\"page\", \"Churn\"]).show(50,truncate=False)"
   ]
  },
  {
   "cell_type": "code",
   "execution_count": 34,
   "metadata": {},
   "outputs": [
    {
     "name": "stdout",
     "output_type": "stream",
     "text": [
      "+-----+------+------------------+\n",
      "|Churn|status|  mean_statuscount|\n",
      "+-----+------+------------------+\n",
      "|    0|   200|1234.5722543352601|\n",
      "|    1|   200| 791.0961538461538|\n",
      "|    0|   307|113.97076023391813|\n",
      "|    1|   307|  71.0576923076923|\n",
      "|    0|   404|2.3157894736842106|\n",
      "|    1|   404|1.4545454545454546|\n",
      "+-----+------+------------------+\n",
      "\n"
     ]
    }
   ],
   "source": [
    "# status counts of users\n",
    "df_churn.groupby([\"Churn\",\"userId\",\"status\"]) \\\n",
    "    .agg(F.count(\"status\").alias(\"count\")) \\\n",
    "    .groupby(\"Churn\",\"status\") \\\n",
    "    .agg(F.mean(\"count\").alias(\"mean_statuscount\")) \\\n",
    "    .sort([\"status\",\"Churn\"]).show()"
   ]
  },
  {
   "cell_type": "code",
   "execution_count": 35,
   "metadata": {},
   "outputs": [
    {
     "name": "stdout",
     "output_type": "stream",
     "text": [
      "+-----+--------------------+\n",
      "|Churn|mean_totaleventcount|\n",
      "+-----+--------------------+\n",
      "|    1|   862.7692307692307|\n",
      "|    0|  1348.4971098265896|\n",
      "+-----+--------------------+\n",
      "\n"
     ]
    }
   ],
   "source": [
    "# total event count of users\n",
    "df_churn.groupby([\"Churn\",\"userId\"]) \\\n",
    "    .agg(F.count(\"page\").alias(\"count\")) \\\n",
    "    .groupby([\"Churn\"]) \\\n",
    "    .agg(F.mean(\"count\").alias(\"mean_totaleventcount\")) \\\n",
    "    .show()"
   ]
  },
  {
   "cell_type": "code",
   "execution_count": 36,
   "metadata": {},
   "outputs": [
    {
     "name": "stdout",
     "output_type": "stream",
     "text": [
      "+-----+------------------+\n",
      "|Churn|       mean_length|\n",
      "+-----+------------------+\n",
      "|    1|248.63279564406366|\n",
      "|    0|249.20913538881427|\n",
      "+-----+------------------+\n",
      "\n"
     ]
    }
   ],
   "source": [
    "# mean song length of users\n",
    "df_churn.groupby([\"Churn\"]) \\\n",
    "    .agg(F.mean(\"length\").alias(\"mean_length\")) \\\n",
    "    .show()"
   ]
  },
  {
   "cell_type": "code",
   "execution_count": 37,
   "metadata": {},
   "outputs": [
    {
     "name": "stdout",
     "output_type": "stream",
     "text": [
      "+-----+------------------+\n",
      "|Churn|  mean_sessiontime|\n",
      "+-----+------------------+\n",
      "|    1|16987.292364990688|\n",
      "|    0| 18171.32171276999|\n",
      "+-----+------------------+\n",
      "\n"
     ]
    }
   ],
   "source": [
    "# mean session time of users\n",
    "df_churn.groupby(['Churn','userId','sessionId']) \\\n",
    "    .agg(F.min(\"ts\").alias(\"session_start\"), F.max(\"ts\").alias(\"session_end\")) \\\n",
    "    .withColumn(\"sessiontime\", (F.col(\"session_end\") - F.col(\"session_start\")) / 1000) \\\n",
    "    .groupby([\"Churn\"]) \\\n",
    "    .agg(F.mean(\"sessiontime\").alias(\"mean_sessiontime\")) \\\n",
    "    .show()"
   ]
  },
  {
   "cell_type": "code",
   "execution_count": 38,
   "metadata": {},
   "outputs": [
    {
     "name": "stdout",
     "output_type": "stream",
     "text": [
      "+-----+------------------+\n",
      "|Churn|avg(avgsessiongap)|\n",
      "+-----+------------------+\n",
      "|    1|254732.06872084906|\n",
      "|    0| 528979.8842565479|\n",
      "+-----+------------------+\n",
      "\n"
     ]
    }
   ],
   "source": [
    "# average time gap between sessions of users\n",
    "df_churn.groupby(['Churn','userId','sessionId']) \\\n",
    "    .agg(F.min(\"ts\").alias(\"session_start\"), F.max(\"ts\").alias(\"session_end\")) \\\n",
    "    .groupby([\"Churn\", \"userId\"]) \\\n",
    "    .agg(F.count(\"userId\").alias('sessioncount'), ((F.max(\"session_end\") - F.min(\"session_start\"))/1000).alias(\"totaltimepassed\"), (F.sum(F.col(\"session_end\") - F.col(\"session_start\"))/1000).alias(\"totalsessiontime\")) \\\n",
    "    .withColumn(\"avgsessiongap\", (F.col(\"totaltimepassed\") - F.col(\"totalsessiontime\")) / (F.col(\"sessioncount\")-1)) \\\n",
    "    .groupby([\"Churn\"]) \\\n",
    "    .agg(F.mean(\"avgsessiongap\")) \\\n",
    "    .show()"
   ]
  },
  {
   "cell_type": "code",
   "execution_count": 39,
   "metadata": {},
   "outputs": [
    {
     "data": {
      "text/plain": [
       "<AxesSubplot:xlabel='count', ylabel='Count'>"
      ]
     },
     "execution_count": 39,
     "metadata": {},
     "output_type": "execute_result"
    },
    {
     "data": {
      "image/png": "[encoded data removed]",
      "text/plain": [
       "<Figure size 432x288 with 1 Axes>"
      ]
     },
     "metadata": {
      "needs_background": "light"
     },
     "output_type": "display_data"
    }
   ],
   "source": [
    "# Thumbs up count of churned vs non-churned users\n",
    "sns.histplot(data=df_churn.filter(df_churn.page == \"Thumbs Up\") \\\n",
    "    .groupby([\"Churn\",\"userId\"]) \\\n",
    "    .agg(F.count(\"page\").alias(\"count\")) \\\n",
    "    .toPandas(), x=\"count\", hue=\"Churn\")"
   ]
  },
  {
   "cell_type": "markdown",
   "metadata": {},
   "source": [
    "user_window = Window \\\n",
    "    .partitionBy('userId') \\\n",
    "    .orderBy(desc('ts')) \\\n",
    "    .rangeBetween(Window.unboundedPreceding, 0)"
   ]
  },
  {
   "cell_type": "markdown",
   "metadata": {},
   "source": [
    "# Feature Engineering\n",
    "Once you've familiarized yourself with the data, build out the features you find promising to train your model on. To work with the full dataset, you can follow the following steps.\n",
    "- Write a script to extract the necessary features from the smaller subset of data\n",
    "- Ensure that your script is scalable, using the best practices discussed in Lesson 3\n",
    "- Try your script on the full data set, debugging your script if necessary\n",
    "\n",
    "If you are working in the classroom workspace, you can just extract features based on the small subset of data contained here. Be sure to transfer over this work to the larger dataset when you work on your Spark cluster."
   ]
  },
  {
   "cell_type": "code",
   "execution_count": 40,
   "metadata": {},
   "outputs": [],
   "source": [
    "# Change gender value to binary values\n",
    "genders = df_churn.groupby(\"userId\") \\\n",
    "                .agg(F.first(\"gender\").alias(\"gender\")) \\\n",
    "                .replace(['M', 'F'], ['0', '1'], 'gender') \\\n",
    "                .select('userId', F.col('gender').cast('int').alias('gender'))"
   ]
  },
  {
   "cell_type": "code",
   "execution_count": 41,
   "metadata": {},
   "outputs": [],
   "source": [
    "# days passed since registration day of users\n",
    "days_passed = df_churn.groupby(\"userId\") \\\n",
    "    .agg((((F.max(\"ts\") - F.max(\"registration\"))/(1000*60*60*24)).cast('integer')).alias(\"days_since_register\"))"
   ]
  },
  {
   "cell_type": "code",
   "execution_count": 42,
   "metadata": {},
   "outputs": [],
   "source": [
    "# latest account level of users\n",
    "latest_level = df_churn.sort(\"ts\") \\\n",
    "    .groupby(\"userId\") \\\n",
    "    .agg(F.last(\"level\").alias(\"level\")) \\\n",
    "    .replace(['free', 'paid'], ['0', '1'], 'level') \\\n",
    "    .select('userId', F.col('level').cast('int').alias('level'))"
   ]
  },
  {
   "cell_type": "code",
   "execution_count": 43,
   "metadata": {},
   "outputs": [],
   "source": [
    "# Calculate page count by users\n",
    "def page_count(df,page):\n",
    "    return df.filter(df[\"page\"] == page) \\\n",
    "            .groupby(\"userId\") \\\n",
    "            .agg(F.count(\"page\").alias(\"count_\" + page.replace(\" \",\"\")))"
   ]
  },
  {
   "cell_type": "code",
   "execution_count": 44,
   "metadata": {},
   "outputs": [],
   "source": [
    "count_about = page_count(df_churn,\"About\")\n",
    "count_addafriend = page_count(df_churn,\"Add Friend\")\n",
    "count_addtoplaylist = page_count(df_churn,\"Add to Playlist\")\n",
    "count_downgrade = page_count(df_churn,\"Downgrade\")\n",
    "count_error = page_count(df_churn,\"Error\")\n",
    "count_help = page_count(df_churn,\"Help\")\n",
    "count_home = page_count(df_churn,\"Home\")\n",
    "count_nextsong = page_count(df_churn,\"NextSong\")\n",
    "count_rolladvert = page_count(df_churn,\"Roll Advert\")\n",
    "count_settings = page_count(df_churn,\"Settings\")\n",
    "count_submitdowngrade = page_count(df_churn,\"Submit Downgrade\")\n",
    "count_submitupgrade = page_count(df_churn,\"Submit Upgrade\")\n",
    "count_thumbsdown = page_count(df_churn,\"Thumbs Down\")\n",
    "count_thumbsup = page_count(df_churn,\"Thumbs Up\")\n",
    "count_upgrade = page_count(df_churn,\"Upgrade\")"
   ]
  },
  {
   "cell_type": "code",
   "execution_count": 45,
   "metadata": {},
   "outputs": [],
   "source": [
    "# status counts by users\n",
    "def status_count(df, status):\n",
    "    return df.filter(df[\"status\"] == status) \\\n",
    "        .groupby([\"userId\"]) \\\n",
    "        .agg(F.count(\"status\").alias(\"count_status\"+status))"
   ]
  },
  {
   "cell_type": "code",
   "execution_count": 46,
   "metadata": {},
   "outputs": [],
   "source": [
    "count_status200 = status_count(df_churn,\"200\")\n",
    "count_status307 = status_count(df_churn,\"307\")\n",
    "count_status404 = status_count(df_churn,\"404\")"
   ]
  },
  {
   "cell_type": "code",
   "execution_count": 47,
   "metadata": {},
   "outputs": [],
   "source": [
    "# total event count of users\n",
    "count_totalevent = df_churn.groupby([\"userId\"]) \\\n",
    "    .agg(F.count(\"page\").alias(\"count\"))"
   ]
  },
  {
   "cell_type": "code",
   "execution_count": 48,
   "metadata": {},
   "outputs": [],
   "source": [
    "# mean session time of users\n",
    "avg_session_time = df_churn.groupby(['userId','sessionId']) \\\n",
    "    .agg(F.min(\"ts\").alias(\"session_start\"), F.max(\"ts\").alias(\"session_end\")) \\\n",
    "    .withColumn(\"sessiontime\", (F.col(\"session_end\") - F.col(\"session_start\")) / 1000 / 3600) \\\n",
    "    .groupby(\"userId\") \\\n",
    "    .agg(F.mean(\"sessiontime\").alias(\"avg_session_time\"))"
   ]
  },
  {
   "cell_type": "code",
   "execution_count": 49,
   "metadata": {},
   "outputs": [],
   "source": [
    "# average time gap between sessions of users\n",
    "avg_sessiongap_time = df_churn.groupby(['userId','sessionId']) \\\n",
    "    .agg(F.min(\"ts\").alias(\"session_start\"), F.max(\"ts\").alias(\"session_end\")) \\\n",
    "    .groupby([\"userId\"]) \\\n",
    "    .agg(F.count(\"userId\").alias('sessioncount'), ((F.max(\"session_end\") - F.min(\"session_start\"))/1000/3600).alias(\"totaltimepassed\"), (F.sum(F.col(\"session_end\") - F.col(\"session_start\"))/1000/3600).alias(\"totalsessiontime\")) \\\n",
    "    .withColumn(\"avgsessiongap\", (F.col(\"totaltimepassed\") - F.col(\"totalsessiontime\")) / (F.col(\"sessioncount\")-1)) \\\n",
    "    .select(\"userId\",\"avgsessiongap\")"
   ]
  },
  {
   "cell_type": "code",
   "execution_count": 50,
   "metadata": {},
   "outputs": [],
   "source": [
    "df_labels = df_churn.select(df_churn['userId'], df_churn[\"Churn\"].alias('label')).dropDuplicates()"
   ]
  },
  {
   "cell_type": "code",
   "execution_count": 51,
   "metadata": {},
   "outputs": [],
   "source": [
    "model_data = df_labels.join(genders, \"userId\", \"outer\") \\\n",
    "                    .join(days_passed, \"userId\", \"outer\") \\\n",
    "                    .join(latest_level, \"userId\", \"outer\") \\\n",
    "                    .join(count_about, \"userId\", \"outer\") \\\n",
    "                    .join(count_addafriend, \"userId\", \"outer\") \\\n",
    "                    .join(count_addtoplaylist, \"userId\", \"outer\") \\\n",
    "                    .join(count_downgrade, \"userId\", \"outer\") \\\n",
    "                    .join(count_error, \"userId\", \"outer\") \\\n",
    "                    .join(count_help, \"userId\", \"outer\") \\\n",
    "                    .join(count_home, \"userId\", \"outer\") \\\n",
    "                    .join(count_nextsong, \"userId\", \"outer\") \\\n",
    "                    .join(count_rolladvert, \"userId\", \"outer\") \\\n",
    "                    .join(count_settings, \"userId\", \"outer\") \\\n",
    "                    .join(count_submitdowngrade, \"userId\", \"outer\") \\\n",
    "                    .join(count_submitupgrade, \"userId\", \"outer\") \\\n",
    "                    .join(count_thumbsdown, \"userId\", \"outer\") \\\n",
    "                    .join(count_thumbsup, \"userId\", \"outer\") \\\n",
    "                    .join(count_upgrade, \"userId\", \"outer\") \\\n",
    "                    .join(count_status200, \"userId\", \"outer\") \\\n",
    "                    .join(count_status307, \"userId\", \"outer\") \\\n",
    "                    .join(count_status404, \"userId\", \"outer\") \\\n",
    "                    .join(count_totalevent, \"userId\", \"outer\") \\\n",
    "                    .join(avg_session_time, \"userId\", \"outer\") \\\n",
    "                    .join(avg_sessiongap_time, \"userId\", \"outer\") \\\n",
    "                    .drop(\"userId\").fillna(0)"
   ]
  },
  {
   "cell_type": "code",
   "execution_count": 52,
   "metadata": {},
   "outputs": [
    {
     "name": "stderr",
     "output_type": "stream",
     "text": [
      "[Stage 277:>                                                        (0 + 1) / 1]\r"
     ]
    },
    {
     "name": "stdout",
     "output_type": "stream",
     "text": [
      "+-----+------+-------------------+-----+-----------+---------------+-------------------+---------------+-----------+----------+----------+--------------+----------------+--------------+---------------------+-------------------+----------------+--------------+-------------+---------------+---------------+---------------+-----+------------------+------------------+\n",
      "|label|gender|days_since_register|level|count_About|count_AddFriend|count_AddtoPlaylist|count_Downgrade|count_Error|count_Help|count_Home|count_NextSong|count_RollAdvert|count_Settings|count_SubmitDowngrade|count_SubmitUpgrade|count_ThumbsDown|count_ThumbsUp|count_Upgrade|count_status200|count_status307|count_status404|count|  avg_session_time|     avgsessiongap|\n",
      "+-----+------+-------------------+-----+-----------+---------------+-------------------+---------------+-----------+----------+----------+--------------+----------------+--------------+---------------------+-------------------+----------------+--------------+-------------+---------------+---------------+---------------+-----+------------------+------------------+\n",
      "|    0|     0|                 51|    1|          2|             12|                  9|              7|          0|         1|        30|           673|               1|             7|                    0|                  0|               4|            37|            0|            730|             65|              0|  795|7.6624537037037035|194.50327777777778|\n",
      "|    0|     0|                 64|    1|         12|             49|                 61|             30|          3|        18|       105|          2682|              25|            11|                    1|                  1|              27|           148|            1|           2945|            266|              3| 3214| 5.275317460317461|36.192785947712416|\n",
      "|    1|     1|                 44|    0|          0|              2|                  3|              0|          1|         1|        11|           133|              14|             1|                    0|                  0|               2|             8|            2|            166|             20|              1|  187|2.4693055555555556| 7.976203703703703|\n",
      "|    0|     1|                160|    1|          0|              1|                  5|              2|          0|         0|         6|           195|               3|             0|                    0|                  0|               0|             5|            0|            211|              7|              0|  218|3.3530555555555557|436.27287037037036|\n",
      "|    1|     1|                 22|    0|          0|              0|                  2|              0|          0|         1|         7|            51|               9|             0|                    0|                  0|               0|             3|            0|             71|              7|              0|   78|1.6519444444444444| 45.12972222222222|\n",
      "+-----+------+-------------------+-----+-----------+---------------+-------------------+---------------+-----------+----------+----------+--------------+----------------+--------------+---------------------+-------------------+----------------+--------------+-------------+---------------+---------------+---------------+-----+------------------+------------------+\n",
      "only showing top 5 rows\n",
      "\n"
     ]
    },
    {
     "name": "stderr",
     "output_type": "stream",
     "text": [
      "                                                                                \r"
     ]
    }
   ],
   "source": [
    "model_data.show(5)"
   ]
  },
  {
   "cell_type": "markdown",
   "metadata": {},
   "source": [
    "# Modeling\n",
    "Split the full dataset into train, test, and validation sets. Test out several of the machine learning methods you learned. Evaluate the accuracy of the various models, tuning parameters as necessary. Determine your winning model based on test accuracy and report results on the validation set. Since the churned users are a fairly small subset, I suggest using F1 score as the metric to optimize."
   ]
  },
  {
   "cell_type": "code",
   "execution_count": 53,
   "metadata": {},
   "outputs": [],
   "source": [
    "from pyspark.ml.feature import VectorAssembler, Normalizer, StandardScaler, MinMaxScaler\n",
    "from pyspark.ml import Pipeline\n",
    "from pyspark.ml.classification import LogisticRegression, RandomForestClassifier, GBTClassifier, \\\n",
    "    NaiveBayes, DecisionTreeClassifier\n",
    "from pyspark.ml.tuning import CrossValidator, ParamGridBuilder\n",
    "from pyspark.ml.evaluation import MulticlassClassificationEvaluator, BinaryClassificationEvaluator\n",
    "import time"
   ]
  },
  {
   "cell_type": "code",
   "execution_count": 54,
   "metadata": {},
   "outputs": [],
   "source": [
    "def split_data(data, seed=0):\n",
    "    \"\"\"\n",
    "    Splits data into train and test data 80:20 ratip\n",
    "    \n",
    "    Input:\n",
    "    data [DataFrame]: Data with features\n",
    "    seed [int]: seed number for generator\n",
    "        \n",
    "    Output:\n",
    "    train [DataFrame]: Train dataset\n",
    "    test [DataFrame]: Test dataset.\n",
    "    \"\"\"\n",
    "    train, test = data.randomSplit([0.8, 0.2], seed=seed);\n",
    "    return train, test\n",
    "\n",
    "def create_pipeline(data, classifier, scaler):\n",
    "    \"\"\"\n",
    "    Create pipeline\n",
    "    \n",
    "    Input:\n",
    "    data [Dataframe]: Data with features\n",
    "    classifier: Machine learning classifier\n",
    "\n",
    "    Returns:\n",
    "    pipeline: Created pipeline\n",
    "    \"\"\"\n",
    "    features = data.drop('label').columns\n",
    "    assembler = VectorAssembler(inputCols=features, outputCol='NumFeatures')\n",
    "    pipeline = Pipeline(stages=[assembler, scaler, classifier]);\n",
    "\n",
    "    return pipeline"
   ]
  },
  {
   "cell_type": "code",
   "execution_count": 55,
   "metadata": {},
   "outputs": [],
   "source": [
    "def fit_model(data, classifier, seed=0):\n",
    "    \"\"\"\n",
    "    Fit model and calculate metrics\n",
    "    \n",
    "    Input:\n",
    "    data [Dataframe]: Data with features\n",
    "    classifier: Machine learning classifier\n",
    "    seed [int]: seed number for generator\n",
    "        \n",
    "    Output:\n",
    "    model: The fitted model.\n",
    "    metrics: The fitted model's metrics.\n",
    "    \"\"\"\n",
    "    start_time = time.time()\n",
    "    print('Model preparation is starting...')\n",
    "    # Split data into train and test subset\n",
    "    train, test = split_data(data, seed)\n",
    "    print('Dataset split is done.')\n",
    "\n",
    "    # Create pipeline\n",
    "    scaler = StandardScaler(inputCol='NumFeatures', outputCol='features')\n",
    "    pipeline = create_pipeline(data, classifier, scaler)\n",
    "    print('Pipeline creation is done')\n",
    "\n",
    "    # Train model\n",
    "    model = pipeline.fit(train)\n",
    "    print('Training is done')\n",
    "\n",
    "    # Get metrics\n",
    "    metrics = calc_metrics(model, test)\n",
    "    print('Metric preparation is done.')\n",
    "\n",
    "    fitting_duration = time.time() - start_time\n",
    "    \n",
    "    print(f'Model fitting is done ({int(fitting_duration)} s).')\n",
    "    \n",
    "    return model, metrics"
   ]
  },
  {
   "cell_type": "code",
   "execution_count": 56,
   "metadata": {},
   "outputs": [],
   "source": [
    "def calc_metrics(model, test):\n",
    "    \"\"\"\n",
    "    Calculates the metrics of the specified model.\n",
    "    \n",
    "    Input:\n",
    "    model: Fitted model\n",
    "    test: test/validation dataset\n",
    "        \n",
    "    Output:\n",
    "    metrics: Calculated metrics\n",
    "    \"\"\"\n",
    "    # Create both evaluators\n",
    "    evaluatorMulti = MulticlassClassificationEvaluator(labelCol='label', predictionCol='prediction')\n",
    "    evaluator = BinaryClassificationEvaluator(labelCol='label', rawPredictionCol='prediction', metricName='areaUnderROC')\n",
    "\n",
    "    # Make predicitons\n",
    "    prediction = model.transform(test).select('label', 'prediction')\n",
    "\n",
    "    # Get metrics\n",
    "    acc = evaluatorMulti.evaluate(prediction, {evaluatorMulti.metricName: 'accuracy'})\n",
    "    f1 = evaluatorMulti.evaluate(prediction, {evaluatorMulti.metricName: 'f1'})\n",
    "    weightedPrecision = evaluatorMulti.evaluate(prediction, {evaluatorMulti.metricName: 'weightedPrecision'})\n",
    "    weightedRecall = evaluatorMulti.evaluate(prediction, {evaluatorMulti.metricName: 'weightedRecall'})\n",
    "    auc = evaluator.evaluate(prediction)\n",
    "    \n",
    "    metrics = pd.DataFrame(index=['F1', 'accuracy', 'weighted precision', 'weighted recall', 'AUC'], \\\n",
    "                           data={'metrics value': [f1, acc, weightedPrecision, weightedRecall, auc]})\n",
    "    \n",
    "    return metrics"
   ]
  },
  {
   "cell_type": "code",
   "execution_count": 57,
   "metadata": {},
   "outputs": [],
   "source": [
    "# Plot feature importances\n",
    "def plot_feature_importance(data, model, height, title):\n",
    "    features = data.drop('label').columns\n",
    "    feature_coeff = model.stages[-1].featureImportances\n",
    "    feature_importances = pd.DataFrame(list(zip(features, feature_coeff)), \\\n",
    "                                       columns=['Feature', 'FeatureImportances']) \\\n",
    "        .sort_values('FeatureImportances', ascending=False)\n",
    "\n",
    "    values = feature_importances.sort_values(by='FeatureImportances', ascending=False)['FeatureImportances']\n",
    "    labels = feature_importances.sort_values(by='FeatureImportances', ascending=False)['Feature']\n",
    "\n",
    "    plt.figure(figsize = [8, height])\n",
    "    plt.barh(np.arange(len(values)), values, height=0.6)\n",
    "    ax = plt.gca()\n",
    "    ax.set_yticks(np.arange(len(labels)))\n",
    "    ax.set_yticklabels(labels)\n",
    "    ax.invert_yaxis()  # labels read top-to-bottom\n",
    "    ax.set_xlabel('FeatureImportances')\n",
    "    ax.set_ylabel('Features')\n",
    "    ax.set_title(title)\n",
    "    plt.grid(True, axis='x', linewidth= 1, linestyle=\"--\")\n",
    "\n",
    "    plt.show()"
   ]
  },
  {
   "cell_type": "code",
   "execution_count": 58,
   "metadata": {},
   "outputs": [
    {
     "name": "stdout",
     "output_type": "stream",
     "text": [
      "Model fitting started. Please wait...\n",
      "Train|Test data split done.\n",
      "Create pipeline done.\n"
     ]
    },
    {
     "name": "stderr",
     "output_type": "stream",
     "text": [
      "22/02/04 18:25:21 WARN package: Truncated the string representation of a plan since it was too large. This behavior can be adjusted by setting 'spark.sql.debug.maxToStringFields'.\n",
      "22/02/04 18:25:42 WARN InstanceBuilder$NativeBLAS: Failed to load implementation from:dev.ludovic.netlib.blas.JNIBLAS\n",
      "22/02/04 18:25:42 WARN InstanceBuilder$NativeBLAS: Failed to load implementation from:dev.ludovic.netlib.blas.ForeignLinkerBLAS\n",
      "[Stage 9482:>                                                       (0 + 1) / 1]\r"
     ]
    },
    {
     "name": "stdout",
     "output_type": "stream",
     "text": [
      "Training done.\n"
     ]
    },
    {
     "name": "stderr",
     "output_type": "stream",
     "text": [
      "[Stage 12968:>                                                      (0 + 1) / 1]\r"
     ]
    },
    {
     "name": "stdout",
     "output_type": "stream",
     "text": [
      "Metrics prepared.\n",
      "Model fitting done (70 s).\n"
     ]
    },
    {
     "name": "stderr",
     "output_type": "stream",
     "text": [
      "                                                                                \r"
     ]
    }
   ],
   "source": [
    "classifier = LogisticRegression(featuresCol='features', labelCol = 'label')\n",
    "model_lr, metrics_lr = fit_model(model_data, classifier)"
   ]
  },
  {
   "cell_type": "code",
   "execution_count": 59,
   "metadata": {},
   "outputs": [
    {
     "data": {
      "text/html": [
       "<div>\n",
       "<style scoped>\n",
       "    .dataframe tbody tr th:only-of-type {\n",
       "        vertical-align: middle;\n",
       "    }\n",
       "\n",
       "    .dataframe tbody tr th {\n",
       "        vertical-align: top;\n",
       "    }\n",
       "\n",
       "    .dataframe thead th {\n",
       "        text-align: right;\n",
       "    }\n",
       "</style>\n",
       "<table border=\"1\" class=\"dataframe\">\n",
       "  <thead>\n",
       "    <tr style=\"text-align: right;\">\n",
       "      <th></th>\n",
       "      <th>metrics value</th>\n",
       "    </tr>\n",
       "  </thead>\n",
       "  <tbody>\n",
       "    <tr>\n",
       "      <th>F1</th>\n",
       "      <td>0.796145</td>\n",
       "    </tr>\n",
       "    <tr>\n",
       "      <th>accuracy</th>\n",
       "      <td>0.800000</td>\n",
       "    </tr>\n",
       "    <tr>\n",
       "      <th>weighted precision</th>\n",
       "      <td>0.793210</td>\n",
       "    </tr>\n",
       "    <tr>\n",
       "      <th>weighted recall</th>\n",
       "      <td>0.800000</td>\n",
       "    </tr>\n",
       "    <tr>\n",
       "      <th>AUC</th>\n",
       "      <td>0.692857</td>\n",
       "    </tr>\n",
       "  </tbody>\n",
       "</table>\n",
       "</div>"
      ],
      "text/plain": [
       "                    metrics value\n",
       "F1                       0.796145\n",
       "accuracy                 0.800000\n",
       "weighted precision       0.793210\n",
       "weighted recall          0.800000\n",
       "AUC                      0.692857"
      ]
     },
     "execution_count": 59,
     "metadata": {},
     "output_type": "execute_result"
    }
   ],
   "source": [
    "metrics_lr"
   ]
  },
  {
   "cell_type": "code",
   "execution_count": 60,
   "metadata": {},
   "outputs": [
    {
     "name": "stdout",
     "output_type": "stream",
     "text": [
      "Model fitting started. Please wait...\n",
      "Train|Test data split done.\n",
      "Create pipeline done.\n"
     ]
    },
    {
     "name": "stderr",
     "output_type": "stream",
     "text": [
      "[Stage 17701:>                                                      (0 + 1) / 1]\r"
     ]
    },
    {
     "name": "stdout",
     "output_type": "stream",
     "text": [
      "Training done.\n"
     ]
    },
    {
     "name": "stderr",
     "output_type": "stream",
     "text": [
      "[Stage 21187:>                                                      (0 + 1) / 1]\r"
     ]
    },
    {
     "name": "stdout",
     "output_type": "stream",
     "text": [
      "Metrics prepared.\n",
      "Model fitting done (66 s).\n"
     ]
    },
    {
     "name": "stderr",
     "output_type": "stream",
     "text": [
      "                                                                                \r"
     ]
    }
   ],
   "source": [
    "classifier = RandomForestClassifier(seed=5)\n",
    "model_rfc, metrics_rfc = fit_model(model_data, classifier, seed=5)"
   ]
  },
  {
   "cell_type": "code",
   "execution_count": 61,
   "metadata": {},
   "outputs": [
    {
     "data": {
      "text/html": [
       "<div>\n",
       "<style scoped>\n",
       "    .dataframe tbody tr th:only-of-type {\n",
       "        vertical-align: middle;\n",
       "    }\n",
       "\n",
       "    .dataframe tbody tr th {\n",
       "        vertical-align: top;\n",
       "    }\n",
       "\n",
       "    .dataframe thead th {\n",
       "        text-align: right;\n",
       "    }\n",
       "</style>\n",
       "<table border=\"1\" class=\"dataframe\">\n",
       "  <thead>\n",
       "    <tr style=\"text-align: right;\">\n",
       "      <th></th>\n",
       "      <th>metrics value</th>\n",
       "    </tr>\n",
       "  </thead>\n",
       "  <tbody>\n",
       "    <tr>\n",
       "      <th>F1</th>\n",
       "      <td>0.885128</td>\n",
       "    </tr>\n",
       "    <tr>\n",
       "      <th>accuracy</th>\n",
       "      <td>0.903226</td>\n",
       "    </tr>\n",
       "    <tr>\n",
       "      <th>weighted precision</th>\n",
       "      <td>0.913237</td>\n",
       "    </tr>\n",
       "    <tr>\n",
       "      <th>weighted recall</th>\n",
       "      <td>0.903226</td>\n",
       "    </tr>\n",
       "    <tr>\n",
       "      <th>AUC</th>\n",
       "      <td>0.700000</td>\n",
       "    </tr>\n",
       "  </tbody>\n",
       "</table>\n",
       "</div>"
      ],
      "text/plain": [
       "                    metrics value\n",
       "F1                       0.885128\n",
       "accuracy                 0.903226\n",
       "weighted precision       0.913237\n",
       "weighted recall          0.903226\n",
       "AUC                      0.700000"
      ]
     },
     "execution_count": 61,
     "metadata": {},
     "output_type": "execute_result"
    }
   ],
   "source": [
    "metrics_rfc"
   ]
  },
  {
   "cell_type": "code",
   "execution_count": 62,
   "metadata": {},
   "outputs": [
    {
     "name": "stdout",
     "output_type": "stream",
     "text": [
      "Model fitting started. Please wait...\n",
      "Train|Test data split done.\n",
      "Create pipeline done.\n"
     ]
    },
    {
     "name": "stderr",
     "output_type": "stream",
     "text": [
      "                                                                                \r"
     ]
    },
    {
     "name": "stdout",
     "output_type": "stream",
     "text": [
      "Training done.\n"
     ]
    },
    {
     "name": "stderr",
     "output_type": "stream",
     "text": [
      "[Stage 32467:>                                                      (0 + 1) / 1]\r"
     ]
    },
    {
     "name": "stdout",
     "output_type": "stream",
     "text": [
      "Metrics prepared.\n",
      "Model fitting done (54 s).\n"
     ]
    },
    {
     "name": "stderr",
     "output_type": "stream",
     "text": [
      "                                                                                \r"
     ]
    }
   ],
   "source": [
    "classifier = GBTClassifier()\n",
    "model_gbt, metrics_gbt = fit_model(model_data, classifier)"
   ]
  },
  {
   "cell_type": "markdown",
   "metadata": {},
   "source": [
    "features = model_data.drop('label').columns\n",
    "assembler = VectorAssembler(inputCols=features, outputCol='NumFeatures')\n",
    "scaler = StandardScaler(inputCol='NumFeatures', outputCol='features')\n",
    "classifier = GBTClassifier()\n",
    "pipeline = Pipeline(stages=[assembler, scaler, classifier])"
   ]
  },
  {
   "cell_type": "code",
   "execution_count": 63,
   "metadata": {},
   "outputs": [
    {
     "data": {
      "text/html": [
       "<div>\n",
       "<style scoped>\n",
       "    .dataframe tbody tr th:only-of-type {\n",
       "        vertical-align: middle;\n",
       "    }\n",
       "\n",
       "    .dataframe tbody tr th {\n",
       "        vertical-align: top;\n",
       "    }\n",
       "\n",
       "    .dataframe thead th {\n",
       "        text-align: right;\n",
       "    }\n",
       "</style>\n",
       "<table border=\"1\" class=\"dataframe\">\n",
       "  <thead>\n",
       "    <tr style=\"text-align: right;\">\n",
       "      <th></th>\n",
       "      <th>metrics value</th>\n",
       "    </tr>\n",
       "  </thead>\n",
       "  <tbody>\n",
       "    <tr>\n",
       "      <th>F1</th>\n",
       "      <td>0.739010</td>\n",
       "    </tr>\n",
       "    <tr>\n",
       "      <th>accuracy</th>\n",
       "      <td>0.755556</td>\n",
       "    </tr>\n",
       "    <tr>\n",
       "      <th>weighted precision</th>\n",
       "      <td>0.729741</td>\n",
       "    </tr>\n",
       "    <tr>\n",
       "      <th>weighted recall</th>\n",
       "      <td>0.755556</td>\n",
       "    </tr>\n",
       "    <tr>\n",
       "      <th>AUC</th>\n",
       "      <td>0.592857</td>\n",
       "    </tr>\n",
       "  </tbody>\n",
       "</table>\n",
       "</div>"
      ],
      "text/plain": [
       "                    metrics value\n",
       "F1                       0.739010\n",
       "accuracy                 0.755556\n",
       "weighted precision       0.729741\n",
       "weighted recall          0.755556\n",
       "AUC                      0.592857"
      ]
     },
     "execution_count": 63,
     "metadata": {},
     "output_type": "execute_result"
    }
   ],
   "source": [
    "metrics_gbt"
   ]
  },
  {
   "cell_type": "code",
   "execution_count": 64,
   "metadata": {},
   "outputs": [
    {
     "data": {
      "image/png": "[encoded data removed]",
      "text/plain": [
       "<Figure size 576x792 with 1 Axes>"
      ]
     },
     "metadata": {
      "needs_background": "light"
     },
     "output_type": "display_data"
    }
   ],
   "source": [
    "plot_feature_importance(model_data, model_gbt, 11, 'Feature importance of Random Forest (seed 0)')"
   ]
  },
  {
   "cell_type": "code",
   "execution_count": null,
   "metadata": {},
   "outputs": [],
   "source": []
  },
  {
   "cell_type": "code",
   "execution_count": 65,
   "metadata": {},
   "outputs": [
    {
     "name": "stdout",
     "output_type": "stream",
     "text": [
      "Cross validation started. Please wait...\n"
     ]
    },
    {
     "name": "stderr",
     "output_type": "stream",
     "text": [
      "22/02/04 19:15:52 WARN BlockManager: Asked to remove block broadcast_4797, which does not exist\n",
      "                                                                                \r"
     ]
    },
    {
     "name": "stdout",
     "output_type": "stream",
     "text": [
      "Cross validation done (3287 s).\n",
      "\n",
      "Cross validation parameters ordered by score, descending:\n"
     ]
    },
    {
     "data": {
      "text/html": [
       "<div>\n",
       "<style scoped>\n",
       "    .dataframe tbody tr th:only-of-type {\n",
       "        vertical-align: middle;\n",
       "    }\n",
       "\n",
       "    .dataframe tbody tr th {\n",
       "        vertical-align: top;\n",
       "    }\n",
       "\n",
       "    .dataframe thead th {\n",
       "        text-align: right;\n",
       "    }\n",
       "</style>\n",
       "<table border=\"1\" class=\"dataframe\">\n",
       "  <thead>\n",
       "    <tr style=\"text-align: right;\">\n",
       "      <th></th>\n",
       "      <th>maxIter</th>\n",
       "      <th>maxDepth</th>\n",
       "      <th>maxBins</th>\n",
       "      <th>score</th>\n",
       "    </tr>\n",
       "  </thead>\n",
       "  <tbody>\n",
       "    <tr>\n",
       "      <th>0</th>\n",
       "      <td>10</td>\n",
       "      <td>2</td>\n",
       "      <td>32</td>\n",
       "      <td>0.804454</td>\n",
       "    </tr>\n",
       "    <tr>\n",
       "      <th>2</th>\n",
       "      <td>50</td>\n",
       "      <td>2</td>\n",
       "      <td>32</td>\n",
       "      <td>0.780504</td>\n",
       "    </tr>\n",
       "    <tr>\n",
       "      <th>3</th>\n",
       "      <td>50</td>\n",
       "      <td>5</td>\n",
       "      <td>32</td>\n",
       "      <td>0.762272</td>\n",
       "    </tr>\n",
       "    <tr>\n",
       "      <th>1</th>\n",
       "      <td>10</td>\n",
       "      <td>5</td>\n",
       "      <td>32</td>\n",
       "      <td>0.758355</td>\n",
       "    </tr>\n",
       "  </tbody>\n",
       "</table>\n",
       "</div>"
      ],
      "text/plain": [
       "   maxIter  maxDepth  maxBins     score\n",
       "0       10         2       32  0.804454\n",
       "2       50         2       32  0.780504\n",
       "3       50         5       32  0.762272\n",
       "1       10         5       32  0.758355"
      ]
     },
     "execution_count": 65,
     "metadata": {},
     "output_type": "execute_result"
    }
   ],
   "source": [
    "# Cross Validation\n",
    "print('Cross validation started. Please wait...')\n",
    "\n",
    "# Create classifier\n",
    "gbt = GBTClassifier(seed=0)\n",
    "\n",
    "# Create pipeline\n",
    "scaler = StandardScaler(inputCol='NumFeatures', outputCol='features')\n",
    "pipeline = create_pipeline(model_data, gbt, scaler)\n",
    "\n",
    "# Define params\n",
    "paramGrid_gbt = ParamGridBuilder() \\\n",
    "    .addGrid(gbt.maxIter, [10, 50]) \\\n",
    "    .addGrid(gbt.maxDepth,[2, 5]) \\\n",
    "    .addGrid(gbt.maxBins, [32]) \\\n",
    "    .build()\n",
    "\n",
    "# Create cross validator\n",
    "crossval_gbt = CrossValidator(estimator = pipeline,\n",
    "                              estimatorParamMaps = paramGrid_gbt,\n",
    "                              evaluator = MulticlassClassificationEvaluator(),\n",
    "                              numFolds = 2)\n",
    "\n",
    "# Fit model\n",
    "start_time = time.time()\n",
    "crossval_model_gbt = crossval_gbt.fit(split_data(model_data)[0]) # train\n",
    "duration = time.time() - start_time\n",
    "\n",
    "print(f'Cross validation done ({int(duration)} s).')\n",
    "\n",
    "# Show best params\n",
    "print('\\nCross validation parameters ordered by score, descending:')\n",
    "scores = crossval_model_gbt.avgMetrics\n",
    "params = [{p.name: v for p, v in m.items()} for m in crossval_model_gbt.getEstimatorParamMaps()]\n",
    "params_df = pd.DataFrame(params)\n",
    "params_df['score'] = scores\n",
    "params_df.sort_values(by='score', ascending=False)"
   ]
  },
  {
   "cell_type": "markdown",
   "metadata": {},
   "source": [
    "# Final Steps\n",
    "Clean up your code, adding comments and renaming variables to make the code easier to read and maintain. Refer to the Spark Project Overview page and Data Scientist Capstone Project Rubric to make sure you are including all components of the capstone project and meet all expectations. Remember, this includes thorough documentation in a README file in a Github repository, as well as a web app or blog post."
   ]
  },
  {
   "cell_type": "code",
   "execution_count": null,
   "metadata": {},
   "outputs": [],
   "source": []
  }
 ],
 "metadata": {
  "kernelspec": {
   "display_name": "Python 3",
   "language": "python",
   "name": "python3"
  },
  "language_info": {
   "codemirror_mode": {
    "name": "ipython",
    "version": 3
   },
   "file_extension": ".py",
   "mimetype": "text/x-python",
   "name": "python",
   "nbconvert_exporter": "python",
   "pygments_lexer": "ipython3",
   "version": "3.8.10"
  }
 },
 "nbformat": 4,
 "nbformat_minor": 2
}
