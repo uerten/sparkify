{
 "cells": [
  {
   "cell_type": "markdown",
   "metadata": {},
   "source": [
    "# Sparkify Project Workspace\n",
    "This workspace contains a tiny subset (128MB) of the full dataset available (12GB). Feel free to use this workspace to build your project, or to explore a smaller subset with Spark before deploying your cluster on the cloud. Instructions for setting up your Spark cluster is included in the last lesson of the Extracurricular Spark Course content.\n",
    "\n",
    "You can follow the steps below to guide your data analysis and model building portion of this project.\n",
    "\n",
    "## Project Overview\n",
    "\n",
    "Sparkify is music streaming service like Spotify. Users can listen music using free plan with ads, or they can upgrade to paid plan without ads. Other than listening music, users can vote up and down, add songs to playlist and add friends. If they don't like the paid plan, they can downgrade or they can completely cancel the plan\n",
    "\n",
    "All user activities are kept with log files. We are able to get informatin such as sessions, pages, user info, subscription plan etc.\n",
    "\n",
    "\n",
    "## Problem Statement\n",
    "\n",
    "Our aim to find which users are possibly going to leave our service. We'll define churned users with either \"downgrade\" or \"cancelled\" logs\n",
    "\n",
    "Definin potential churned user is a binary classification problem. we'll have only two label values as churned or non-churned\n",
    "The solution of our problem is to create a machine learning model that can provide prediction results achieving the project goal according to the chosen metrics as described in the next section.\n",
    "\n",
    "## Metrics\n",
    "\n",
    "Our dataset is imbalanced which means churned user data is low compared to non-churned users. Labels are not distributed equally so it's not enough use only accuracy of model.\n",
    "\n",
    "We'll use f1 score to check performance our model to balance precision and recall values"
   ]
  },
  {
   "cell_type": "code",
   "execution_count": 4,
   "metadata": {},
   "outputs": [],
   "source": [
    "# import libraries\n",
    "from pyspark.sql import SparkSession\n",
    "import pyspark.sql.functions as F\n",
    "from pyspark.sql.types import TimestampType, LongType, DateType, IntegerType\n",
    "import seaborn as sns\n",
    "import pandas as pd\n",
    "from matplotlib import pyplot as plt\n",
    "import time\n",
    "import numpy as np"
   ]
  },
  {
   "cell_type": "code",
   "execution_count": 5,
   "metadata": {},
   "outputs": [],
   "source": [
    "from pyspark.ml.feature import VectorAssembler, Normalizer, StandardScaler, MinMaxScaler\n",
    "from pyspark.ml import Pipeline\n",
    "from pyspark.ml.classification import LogisticRegression, RandomForestClassifier, GBTClassifier, \\\n",
    "    NaiveBayes, DecisionTreeClassifier"
   ]
  },
  {
   "cell_type": "code",
   "execution_count": 6,
   "metadata": {},
   "outputs": [
    {
     "name": "stderr",
     "output_type": "stream",
     "text": [
      "22/02/08 16:03:07 WARN Utils: Your hostname, uerten resolves to a loopback address: 127.0.1.1; using 10.0.2.15 instead (on interface enp0s3)\n",
      "22/02/08 16:03:07 WARN Utils: Set SPARK_LOCAL_IP if you need to bind to another address\n",
      "WARNING: An illegal reflective access operation has occurred\n",
      "WARNING: Illegal reflective access by org.apache.spark.unsafe.Platform (file:/home/uerten/.local/lib/python3.8/site-packages/pyspark/jars/spark-unsafe_2.12-3.2.1.jar) to constructor java.nio.DirectByteBuffer(long,int)\n",
      "WARNING: Please consider reporting this to the maintainers of org.apache.spark.unsafe.Platform\n",
      "WARNING: Use --illegal-access=warn to enable warnings of further illegal reflective access operations\n",
      "WARNING: All illegal access operations will be denied in a future release\n",
      "Using Spark's default log4j profile: org/apache/spark/log4j-defaults.properties\n",
      "Setting default log level to \"WARN\".\n",
      "To adjust logging level use sc.setLogLevel(newLevel). For SparkR, use setLogLevel(newLevel).\n",
      "22/02/08 16:03:08 WARN NativeCodeLoader: Unable to load native-hadoop library for your platform... using builtin-java classes where applicable\n"
     ]
    }
   ],
   "source": [
    "# create a Spark session\n",
    "spark = SparkSession.builder \\\n",
    "    .master(\"local\") \\\n",
    "    .appName(\"Sparkify\") \\\n",
    "    .getOrCreate()"
   ]
  },
  {
   "cell_type": "markdown",
   "metadata": {},
   "source": [
    "# Load and Clean Dataset\n",
    "In this workspace, the mini-dataset file is `mini_sparkify_event_data.json`. Load and clean the dataset, checking for invalid or missing data - for example, records without userids or sessionids. "
   ]
  },
  {
   "cell_type": "code",
   "execution_count": 7,
   "metadata": {},
   "outputs": [],
   "source": [
    "#df = spark.read.json(\"/home/uerten/Downloads/mini_sparkify_event_data.json\")"
   ]
  },
  {
   "cell_type": "code",
   "execution_count": 8,
   "metadata": {},
   "outputs": [
    {
     "name": "stderr",
     "output_type": "stream",
     "text": [
      "                                                                                \r"
     ]
    }
   ],
   "source": [
    "df = spark.read.json(\"medium_sparkify_event_data.json\")"
   ]
  },
  {
   "cell_type": "code",
   "execution_count": 9,
   "metadata": {},
   "outputs": [
    {
     "data": {
      "text/plain": [
       "DataFrame[artist: string, auth: string, firstName: string, gender: string, itemInSession: bigint, lastName: string, length: double, level: string, location: string, method: string, page: string, registration: bigint, sessionId: bigint, song: string, status: bigint, ts: bigint, userAgent: string, userId: string]"
      ]
     },
     "execution_count": 9,
     "metadata": {},
     "output_type": "execute_result"
    }
   ],
   "source": [
    "df.persist()"
   ]
  },
  {
   "cell_type": "code",
   "execution_count": 10,
   "metadata": {},
   "outputs": [
    {
     "name": "stdout",
     "output_type": "stream",
     "text": [
      "root\n",
      " |-- artist: string (nullable = true)\n",
      " |-- auth: string (nullable = true)\n",
      " |-- firstName: string (nullable = true)\n",
      " |-- gender: string (nullable = true)\n",
      " |-- itemInSession: long (nullable = true)\n",
      " |-- lastName: string (nullable = true)\n",
      " |-- length: double (nullable = true)\n",
      " |-- level: string (nullable = true)\n",
      " |-- location: string (nullable = true)\n",
      " |-- method: string (nullable = true)\n",
      " |-- page: string (nullable = true)\n",
      " |-- registration: long (nullable = true)\n",
      " |-- sessionId: long (nullable = true)\n",
      " |-- song: string (nullable = true)\n",
      " |-- status: long (nullable = true)\n",
      " |-- ts: long (nullable = true)\n",
      " |-- userAgent: string (nullable = true)\n",
      " |-- userId: string (nullable = true)\n",
      "\n"
     ]
    }
   ],
   "source": [
    "df.printSchema()"
   ]
  },
  {
   "cell_type": "code",
   "execution_count": 11,
   "metadata": {},
   "outputs": [
    {
     "name": "stderr",
     "output_type": "stream",
     "text": [
      "                                                                                \r"
     ]
    },
    {
     "data": {
      "text/plain": [
       "543705"
      ]
     },
     "execution_count": 11,
     "metadata": {},
     "output_type": "execute_result"
    }
   ],
   "source": [
    "df.count()"
   ]
  },
  {
   "cell_type": "code",
   "execution_count": 12,
   "metadata": {
    "scrolled": true
   },
   "outputs": [
    {
     "name": "stdout",
     "output_type": "stream",
     "text": [
      "Null or empty cell counts:\n",
      "artist : 110828\n",
      "auth : 0\n",
      "firstName : 15700\n",
      "gender : 15700\n",
      "itemInSession : 0\n",
      "lastName : 15700\n",
      "length : 110828\n",
      "level : 0\n",
      "location : 15700\n",
      "method : 0\n",
      "page : 0\n",
      "registration : 15700\n",
      "sessionId : 0\n",
      "song : 110828\n",
      "status : 0\n",
      "ts : 0\n",
      "userAgent : 15700\n",
      "userId : 15700\n"
     ]
    }
   ],
   "source": [
    "print(\"Null or empty cell counts:\")\n",
    "for column in df.columns:\n",
    "    print(column, \":\", df.where((df[column] == \"\") | (df[column].isNull())).count())"
   ]
  },
  {
   "cell_type": "code",
   "execution_count": 13,
   "metadata": {},
   "outputs": [],
   "source": [
    "# filter empty and null rows of userId and sessionId columns\n",
    "df = df.filter((df.userId != \"\") & (~df.userId.isNull()))"
   ]
  },
  {
   "cell_type": "code",
   "execution_count": 14,
   "metadata": {
    "scrolled": true
   },
   "outputs": [
    {
     "name": "stdout",
     "output_type": "stream",
     "text": [
      "Null or empty cell counts:\n",
      "artist : 95128\n",
      "auth : 0\n",
      "firstName : 0\n",
      "gender : 0\n",
      "itemInSession : 0\n",
      "lastName : 0\n",
      "length : 95128\n",
      "level : 0\n",
      "location : 0\n",
      "method : 0\n",
      "page : 0\n",
      "registration : 0\n",
      "sessionId : 0\n",
      "song : 95128\n",
      "status : 0\n",
      "ts : 0\n",
      "userAgent : 0\n",
      "userId : 0\n"
     ]
    }
   ],
   "source": [
    "print(\"Null or empty cell counts:\")\n",
    "for column in df.columns:\n",
    "    print(column, \":\", df.where((df[column] == \"\") | (df[column].isNull())).count())"
   ]
  },
  {
   "cell_type": "code",
   "execution_count": 18,
   "metadata": {},
   "outputs": [
    {
     "name": "stdout",
     "output_type": "stream",
     "text": [
      "+-------+------------------+\n",
      "|summary|            userId|\n",
      "+-------+------------------+\n",
      "|  count|            528005|\n",
      "|   mean| 60268.42669103512|\n",
      "| stddev|109898.82324176644|\n",
      "|    min|                10|\n",
      "|    max|                99|\n",
      "+-------+------------------+\n",
      "\n"
     ]
    }
   ],
   "source": [
    "df.select(\"userId\").describe().show()"
   ]
  },
  {
   "cell_type": "code",
   "execution_count": 19,
   "metadata": {},
   "outputs": [
    {
     "data": {
      "text/plain": [
       "528005"
      ]
     },
     "execution_count": 19,
     "metadata": {},
     "output_type": "execute_result"
    }
   ],
   "source": [
    "df.count()"
   ]
  },
  {
   "cell_type": "code",
   "execution_count": 20,
   "metadata": {},
   "outputs": [
    {
     "name": "stdout",
     "output_type": "stream",
     "text": [
      "+--------------------+------+\n",
      "|                page| count|\n",
      "+--------------------+------+\n",
      "|            NextSong|432877|\n",
      "|           Thumbs Up| 23826|\n",
      "|                Home| 19089|\n",
      "|     Add to Playlist| 12349|\n",
      "|          Add Friend|  8087|\n",
      "|         Roll Advert|  7773|\n",
      "|              Logout|  5990|\n",
      "|         Thumbs Down|  4911|\n",
      "|           Downgrade|  3811|\n",
      "|            Settings|  2964|\n",
      "|                Help|  2644|\n",
      "|               About|  1026|\n",
      "|             Upgrade|   968|\n",
      "|       Save Settings|   585|\n",
      "|               Error|   503|\n",
      "|      Submit Upgrade|   287|\n",
      "|    Submit Downgrade|   117|\n",
      "|              Cancel|    99|\n",
      "|Cancellation Conf...|    99|\n",
      "+--------------------+------+\n",
      "\n"
     ]
    }
   ],
   "source": [
    "df.groupby(\"page\").count().sort(F.desc(\"count\")).show()"
   ]
  },
  {
   "cell_type": "code",
   "execution_count": 21,
   "metadata": {},
   "outputs": [
    {
     "name": "stdout",
     "output_type": "stream",
     "text": [
      "+---------+------+\n",
      "|     auth| count|\n",
      "+---------+------+\n",
      "|Logged In|527906|\n",
      "|Cancelled|    99|\n",
      "+---------+------+\n",
      "\n"
     ]
    }
   ],
   "source": [
    "df.groupby(\"auth\").count().sort(F.desc(\"count\")).show()"
   ]
  },
  {
   "cell_type": "code",
   "execution_count": 22,
   "metadata": {},
   "outputs": [
    {
     "name": "stdout",
     "output_type": "stream",
     "text": [
      "+-----+------+\n",
      "|level| count|\n",
      "+-----+------+\n",
      "| paid|418044|\n",
      "| free|109961|\n",
      "+-----+------+\n",
      "\n"
     ]
    }
   ],
   "source": [
    "df.groupby(\"level\").count().sort(F.desc(\"count\")).show()"
   ]
  },
  {
   "cell_type": "code",
   "execution_count": 23,
   "metadata": {},
   "outputs": [
    {
     "name": "stdout",
     "output_type": "stream",
     "text": [
      "+------+------+\n",
      "|method| count|\n",
      "+------+------+\n",
      "|   PUT|489128|\n",
      "|   GET| 38877|\n",
      "+------+------+\n",
      "\n"
     ]
    }
   ],
   "source": [
    "df.groupby(\"method\").count().sort(F.desc(\"count\")).show()"
   ]
  },
  {
   "cell_type": "code",
   "execution_count": 24,
   "metadata": {},
   "outputs": [
    {
     "name": "stdout",
     "output_type": "stream",
     "text": [
      "+------+------+\n",
      "|status| count|\n",
      "+------+------+\n",
      "|   200|483600|\n",
      "|   307| 43902|\n",
      "|   404|   503|\n",
      "+------+------+\n",
      "\n"
     ]
    }
   ],
   "source": [
    "df.groupby(\"status\").count().sort(F.desc(\"count\")).show()"
   ]
  },
  {
   "cell_type": "code",
   "execution_count": 25,
   "metadata": {},
   "outputs": [
    {
     "name": "stdout",
     "output_type": "stream",
     "text": [
      "+------+------+\n",
      "|gender| count|\n",
      "+------+------+\n",
      "|     M|302612|\n",
      "|     F|225393|\n",
      "+------+------+\n",
      "\n"
     ]
    }
   ],
   "source": [
    "# genders by transactions\n",
    "df.groupby(\"gender\").count().sort(F.desc(\"count\")).show()"
   ]
  },
  {
   "cell_type": "code",
   "execution_count": 26,
   "metadata": {},
   "outputs": [
    {
     "name": "stderr",
     "output_type": "stream",
     "text": [
      "[Stage 139:============================>                            (1 + 1) / 2]\r"
     ]
    },
    {
     "name": "stdout",
     "output_type": "stream",
     "text": [
      "+------+-----+\n",
      "|gender|count|\n",
      "+------+-----+\n",
      "|     M|  250|\n",
      "|     F|  198|\n",
      "+------+-----+\n",
      "\n"
     ]
    },
    {
     "name": "stderr",
     "output_type": "stream",
     "text": [
      "                                                                                \r"
     ]
    }
   ],
   "source": [
    "# genders by user\n",
    "df.dropDuplicates([\"userId\"]).groupby(\"gender\").count().sort(F.desc(\"count\")).show()"
   ]
  },
  {
   "cell_type": "code",
   "execution_count": 27,
   "metadata": {},
   "outputs": [
    {
     "name": "stdout",
     "output_type": "stream",
     "text": [
      "+-------------+-----+\n",
      "|itemInSession|count|\n",
      "+-------------+-----+\n",
      "|            2| 5691|\n",
      "|            3| 5646|\n",
      "|            4| 5586|\n",
      "|            5| 5522|\n",
      "|            6| 5431|\n",
      "|            1| 5401|\n",
      "|            7| 5330|\n",
      "|            8| 5258|\n",
      "|            0| 5147|\n",
      "|            9| 5146|\n",
      "|           10| 5067|\n",
      "|           11| 5021|\n",
      "|           12| 4950|\n",
      "|           13| 4892|\n",
      "|           14| 4832|\n",
      "|           15| 4757|\n",
      "|           16| 4672|\n",
      "|           17| 4614|\n",
      "|           18| 4563|\n",
      "|           19| 4494|\n",
      "+-------------+-----+\n",
      "only showing top 20 rows\n",
      "\n"
     ]
    }
   ],
   "source": [
    "df.groupby(\"itemInSession\").count().sort(F.desc(\"count\")).show()"
   ]
  },
  {
   "cell_type": "code",
   "execution_count": 28,
   "metadata": {},
   "outputs": [
    {
     "name": "stdout",
     "output_type": "stream",
     "text": [
      "+------+-----+\n",
      "|userId|count|\n",
      "+------+-----+\n",
      "|300049|   92|\n",
      "|300035|   88|\n",
      "|    92|   72|\n",
      "|300017|   71|\n",
      "|   140|   69|\n",
      "|    87|   64|\n",
      "|300011|   60|\n",
      "|200023|   59|\n",
      "|   195|   58|\n",
      "|   293|   58|\n",
      "|   230|   56|\n",
      "|   101|   53|\n",
      "|    42|   52|\n",
      "|300021|   51|\n",
      "|   250|   46|\n",
      "|300031|   45|\n",
      "|   121|   43|\n",
      "|    29|   39|\n",
      "|   100|   39|\n",
      "|300038|   39|\n",
      "+------+-----+\n",
      "only showing top 20 rows\n",
      "\n"
     ]
    }
   ],
   "source": [
    "# session counts by user\n",
    "df.select(\"userId\", \"sessionId\") \\\n",
    "    .groupby(\"userId\") \\\n",
    "    .agg(F.countDistinct(\"sessionId\").alias(\"count\")) \\\n",
    "    .sort(\"count\", ascending=False) \\\n",
    "    .show()"
   ]
  },
  {
   "cell_type": "markdown",
   "metadata": {},
   "source": [
    "# Exploratory Data Analysis\n",
    "When you're working with the full dataset, perform EDA by loading a small subset of the data and doing basic manipulations within Spark. In this workspace, you are already provided a small subset of data you can explore.\n",
    "\n",
    "### Define Churn\n",
    "\n",
    "Once you've done some preliminary analysis, create a column `Churn` to use as the label for your model. I suggest using the `Cancellation Confirmation` events to define your churn, which happen for both paid and free users. As a bonus task, you can also look into the `Downgrade` events.\n",
    "\n",
    "### Explore Data\n",
    "Once you've defined churn, perform some exploratory data analysis to observe the behavior for users who stayed vs users who churned. You can start by exploring aggregates on these two groups of users, observing how much of a specific action they experienced per a certain time unit or number of songs played."
   ]
  },
  {
   "cell_type": "code",
   "execution_count": 29,
   "metadata": {},
   "outputs": [
    {
     "name": "stdout",
     "output_type": "stream",
     "text": [
      "+-----------------+---------+---------+------+-------------+---------+---------+-----+--------------------+------+--------+-------------+---------+------------------+------+-------------+--------------------+------+-----+\n",
      "|           artist|     auth|firstName|gender|itemInSession| lastName|   length|level|            location|method|    page| registration|sessionId|              song|status|           ts|           userAgent|userId|Churn|\n",
      "+-----------------+---------+---------+------+-------------+---------+---------+-----+--------------------+------+--------+-------------+---------+------------------+------+-------------+--------------------+------+-----+\n",
      "|    Martin Orford|Logged In|   Joseph|     M|           20|  Morales|597.55057| free|  Corpus Christi, TX|   PUT|NextSong|1532063507000|      292|     Grand Designs|   200|1538352011000|\"Mozilla/5.0 (Mac...|   293|    0|\n",
      "|John Brown's Body|Logged In|   Sawyer|     M|           74|   Larson|380.21179| free|Houston-The Woodl...|   PUT|NextSong|1538069638000|       97|             Bulls|   200|1538352025000|\"Mozilla/5.0 (Mac...|    98|    0|\n",
      "|          Afroman|Logged In| Maverick|     M|          184| Santiago|202.37016| paid|Orlando-Kissimmee...|   PUT|NextSong|1535953455000|      178|Because I Got High|   200|1538352118000|\"Mozilla/5.0 (Mac...|   179|    0|\n",
      "|             null|Logged In| Maverick|     M|          185| Santiago|     null| paid|Orlando-Kissimmee...|   PUT|  Logout|1535953455000|      178|              null|   307|1538352119000|\"Mozilla/5.0 (Mac...|   179|    0|\n",
      "|       Lily Allen|Logged In|   Gianna|     F|           22|   Campos|194.53342| paid|          Mobile, AL|   PUT|NextSong|1535931018000|      245|Smile (Radio Edit)|   200|1538352124000|Mozilla/5.0 (Wind...|   246|    0|\n",
      "|       Carter USM|Logged In|    Sofia|     F|          266|   Gordon|138.29179| paid|       Rochester, MN|   PUT|NextSong|1533175710000|      162|     Airplane Food|   200|1538352125000|\"Mozilla/5.0 (Mac...|   163|    0|\n",
      "|             null|Logged In| Maverick|     M|          190| Santiago|     null| paid|Orlando-Kissimmee...|   GET|    Home|1535953455000|      178|              null|   200|1538352176000|\"Mozilla/5.0 (Mac...|   179|    0|\n",
      "|        Aerosmith|Logged In|    Lacey|     F|          107|Castaneda|220.39465| free|        El Campo, TX|   PUT|NextSong|1537536032000|      442|     Walk This Way|   200|1538352215000|\"Mozilla/5.0 (Mac...|   175|    0|\n",
      "|             null|Logged In|    Colin|     M|            0|   Larson|     null| free|Dallas-Fort Worth...|   GET|    Home|1537982255000|      497|              null|   200|1538352241000|Mozilla/5.0 (Wind...|   100|    0|\n",
      "|    Amy Winehouse|Logged In|    Colin|     M|            1|   Larson|201.50812| free|Dallas-Fort Worth...|   PUT|NextSong|1537982255000|      497|  Teach Me Tonight|   200|1538352259000|Mozilla/5.0 (Wind...|   100|    0|\n",
      "+-----------------+---------+---------+------+-------------+---------+---------+-----+--------------------+------+--------+-------------+---------+------------------+------+-------------+--------------------+------+-----+\n",
      "only showing top 10 rows\n",
      "\n"
     ]
    }
   ],
   "source": [
    "df.withColumn('Churn', F.when(df.page == \"Cancellation Confirmation\", 1).otherwise(0)).show(10)"
   ]
  },
  {
   "cell_type": "code",
   "execution_count": 30,
   "metadata": {},
   "outputs": [],
   "source": [
    "# get cancelled and downgraded user ids\n",
    "cancelledIds = df.filter(df.page == \"Cancellation Confirmation\").select(\"userId\").dropDuplicates()\n",
    "downgradedIds = df.filter(df.page == \"Submit Downgrade\").select(\"userId\").dropDuplicates()"
   ]
  },
  {
   "cell_type": "code",
   "execution_count": 31,
   "metadata": {},
   "outputs": [
    {
     "name": "stdout",
     "output_type": "stream",
     "text": [
      "Count of cancelled ids: 99\n",
      "Count of downgraded ids: 97\n"
     ]
    }
   ],
   "source": [
    "print(\"Count of cancelled ids:\",cancelledIds.count())\n",
    "print(\"Count of downgraded ids:\",downgradedIds.count())"
   ]
  },
  {
   "cell_type": "code",
   "execution_count": 32,
   "metadata": {},
   "outputs": [],
   "source": [
    "# add label column and set 1 if user is cancelled user\n",
    "df_churn = df.withColumn('Churn', F.when(df.userId.isin([row.userId for row in cancelledIds.collect()]), 1).otherwise(0))"
   ]
  },
  {
   "cell_type": "code",
   "execution_count": 33,
   "metadata": {},
   "outputs": [],
   "source": [
    "# add separate date & time columns\n",
    "df_churn = df_churn.withColumn(\"datetime\", F.from_unixtime(F.col('ts').cast(LongType())/1000).cast(TimestampType()))\n",
    "df_churn = df_churn.withColumn('month', F.month(F.col('datetime')))\n",
    "df_churn = df_churn.withColumn('hour', F.hour(F.col('datetime')))\n",
    "df_churn = df_churn.withColumn('date', F.from_unixtime(F.col('ts')/1000).cast(DateType()))"
   ]
  },
  {
   "cell_type": "code",
   "execution_count": 34,
   "metadata": {},
   "outputs": [
    {
     "name": "stdout",
     "output_type": "stream",
     "text": [
      "+--------------------+---------+---------+------+-------------+---------+---------+-----+--------------------+------+---------------+-------------+---------+--------------------+------+-------------+--------------------+------+-----+-------------------+-----+----+----------+\n",
      "|              artist|     auth|firstName|gender|itemInSession| lastName|   length|level|            location|method|           page| registration|sessionId|                song|status|           ts|           userAgent|userId|Churn|           datetime|month|hour|      date|\n",
      "+--------------------+---------+---------+------+-------------+---------+---------+-----+--------------------+------+---------------+-------------+---------+--------------------+------+-------------+--------------------+------+-----+-------------------+-----+----+----------+\n",
      "|       Martin Orford|Logged In|   Joseph|     M|           20|  Morales|597.55057| free|  Corpus Christi, TX|   PUT|       NextSong|1532063507000|      292|       Grand Designs|   200|1538352011000|\"Mozilla/5.0 (Mac...|   293|    1|2018-10-01 03:00:11|   10|   3|2018-10-01|\n",
      "|   John Brown's Body|Logged In|   Sawyer|     M|           74|   Larson|380.21179| free|Houston-The Woodl...|   PUT|       NextSong|1538069638000|       97|               Bulls|   200|1538352025000|\"Mozilla/5.0 (Mac...|    98|    0|2018-10-01 03:00:25|   10|   3|2018-10-01|\n",
      "|             Afroman|Logged In| Maverick|     M|          184| Santiago|202.37016| paid|Orlando-Kissimmee...|   PUT|       NextSong|1535953455000|      178|  Because I Got High|   200|1538352118000|\"Mozilla/5.0 (Mac...|   179|    0|2018-10-01 03:01:58|   10|   3|2018-10-01|\n",
      "|                null|Logged In| Maverick|     M|          185| Santiago|     null| paid|Orlando-Kissimmee...|   PUT|         Logout|1535953455000|      178|                null|   307|1538352119000|\"Mozilla/5.0 (Mac...|   179|    0|2018-10-01 03:01:59|   10|   3|2018-10-01|\n",
      "|          Lily Allen|Logged In|   Gianna|     F|           22|   Campos|194.53342| paid|          Mobile, AL|   PUT|       NextSong|1535931018000|      245|  Smile (Radio Edit)|   200|1538352124000|Mozilla/5.0 (Wind...|   246|    1|2018-10-01 03:02:04|   10|   3|2018-10-01|\n",
      "|          Carter USM|Logged In|    Sofia|     F|          266|   Gordon|138.29179| paid|       Rochester, MN|   PUT|       NextSong|1533175710000|      162|       Airplane Food|   200|1538352125000|\"Mozilla/5.0 (Mac...|   163|    0|2018-10-01 03:02:05|   10|   3|2018-10-01|\n",
      "|                null|Logged In| Maverick|     M|          190| Santiago|     null| paid|Orlando-Kissimmee...|   GET|           Home|1535953455000|      178|                null|   200|1538352176000|\"Mozilla/5.0 (Mac...|   179|    0|2018-10-01 03:02:56|   10|   3|2018-10-01|\n",
      "|           Aerosmith|Logged In|    Lacey|     F|          107|Castaneda|220.39465| free|        El Campo, TX|   PUT|       NextSong|1537536032000|      442|       Walk This Way|   200|1538352215000|\"Mozilla/5.0 (Mac...|   175|    0|2018-10-01 03:03:35|   10|   3|2018-10-01|\n",
      "|                null|Logged In|    Colin|     M|            0|   Larson|     null| free|Dallas-Fort Worth...|   GET|           Home|1537982255000|      497|                null|   200|1538352241000|Mozilla/5.0 (Wind...|   100|    0|2018-10-01 03:04:01|   10|   3|2018-10-01|\n",
      "|       Amy Winehouse|Logged In|    Colin|     M|            1|   Larson|201.50812| free|Dallas-Fort Worth...|   PUT|       NextSong|1537982255000|      497|    Teach Me Tonight|   200|1538352259000|Mozilla/5.0 (Wind...|   100|    0|2018-10-01 03:04:19|   10|   3|2018-10-01|\n",
      "|Drake / Kanye Wes...|Logged In|    Sofia|     F|          267|   Gordon|357.66812| paid|       Rochester, MN|   PUT|       NextSong|1533175710000|      162|             Forever|   200|1538352263000|\"Mozilla/5.0 (Mac...|   163|    0|2018-10-01 03:04:23|   10|   3|2018-10-01|\n",
      "|           Bob Dylan|Logged In|   Gianna|     F|           23|   Campos|256.96608| paid|          Mobile, AL|   PUT|       NextSong|1535931018000|      245|Simple Twist Of Fate|   200|1538352318000|Mozilla/5.0 (Wind...|   246|    1|2018-10-01 03:05:18|   10|   3|2018-10-01|\n",
      "|        The Bar-Kays|Logged In| Maverick|     M|          191| Santiago|164.23138| paid|Orlando-Kissimmee...|   PUT|       NextSong|1535953455000|      178|         Montego Bay|   200|1538352320000|\"Mozilla/5.0 (Mac...|   179|    0|2018-10-01 03:05:20|   10|   3|2018-10-01|\n",
      "|          Black Kids|Logged In|   Payton|     F|           83| Campbell|251.48036| free|Los Angeles-Long ...|   PUT|       NextSong|1529027541000|       38|Look At Me (When ...|   200|1538352323000|\"Mozilla/5.0 (Win...|    39|    1|2018-10-01 03:05:23|   10|   3|2018-10-01|\n",
      "|                null|Logged In|    Sofia|     F|          268|   Gordon|     null| paid|       Rochester, MN|   GET|      Downgrade|1533175710000|      162|                null|   200|1538352336000|\"Mozilla/5.0 (Mac...|   163|    0|2018-10-01 03:05:36|   10|   3|2018-10-01|\n",
      "|                null|Logged In| Maverick|     M|          192| Santiago|     null| paid|Orlando-Kissimmee...|   PUT|Add to Playlist|1535953455000|      178|                null|   200|1538352376000|\"Mozilla/5.0 (Mac...|   179|    0|2018-10-01 03:06:16|   10|   3|2018-10-01|\n",
      "|         Chris Isaak|Logged In|   Sawyer|     M|           75|   Larson|157.67465| free|Houston-The Woodl...|   PUT|       NextSong|1538069638000|       97|Solitary Man (LP ...|   200|1538352405000|\"Mozilla/5.0 (Mac...|    98|    0|2018-10-01 03:06:45|   10|   3|2018-10-01|\n",
      "|          Crazy Frog|Logged In|    Lacey|     F|          108|Castaneda|169.50812| free|        El Campo, TX|   PUT|       NextSong|1537536032000|      442| Popcorn (Radio Mix)|   200|1538352435000|\"Mozilla/5.0 (Mac...|   175|    0|2018-10-01 03:07:15|   10|   3|2018-10-01|\n",
      "|                null|Logged In|   Sawyer|     M|           76|   Larson|     null| free|Houston-The Woodl...|   GET|    Roll Advert|1538069638000|       97|                null|   200|1538352435000|\"Mozilla/5.0 (Mac...|    98|    0|2018-10-01 03:07:15|   10|   3|2018-10-01|\n",
      "|         The Strokes|Logged In|    Colin|     M|            2|   Larson|187.34975| free|Dallas-Fort Worth...|   PUT|       NextSong|1537982255000|      497|  You Only Live Once|   200|1538352460000|Mozilla/5.0 (Wind...|   100|    0|2018-10-01 03:07:40|   10|   3|2018-10-01|\n",
      "+--------------------+---------+---------+------+-------------+---------+---------+-----+--------------------+------+---------------+-------------+---------+--------------------+------+-------------+--------------------+------+-----+-------------------+-----+----+----------+\n",
      "only showing top 20 rows\n",
      "\n"
     ]
    }
   ],
   "source": [
    "df_churn.show()"
   ]
  },
  {
   "cell_type": "code",
   "execution_count": 35,
   "metadata": {},
   "outputs": [
    {
     "name": "stderr",
     "output_type": "stream",
     "text": [
      "                                                                                \r"
     ]
    },
    {
     "data": {
      "text/plain": [
       "<AxesSubplot:xlabel='hour', ylabel='songcount'>"
      ]
     },
     "execution_count": 35,
     "metadata": {},
     "output_type": "execute_result"
    },
    {
     "data": {
      "image/png": "[encoded data removed]",
      "text/plain": [
       "<Figure size 432x288 with 1 Axes>"
      ]
     },
     "metadata": {
      "needs_background": "light"
     },
     "output_type": "display_data"
    }
   ],
   "source": [
    "# Played song count of Churned vs Non-Churned users by time of day\n",
    "\n",
    "sns.lineplot(data=df_churn.filter(df_churn.page == \"NextSong\") \\\n",
    "    .groupby([\"Churn\",\"hour\"]) \\\n",
    "    .agg(F.count(\"page\").alias(\"songcount\")) \\\n",
    "    .sort([\"Churn\", \"hour\"]).toPandas(), x=\"hour\", y=\"songcount\", hue=\"Churn\")"
   ]
  },
  {
   "cell_type": "code",
   "execution_count": 36,
   "metadata": {},
   "outputs": [
    {
     "name": "stderr",
     "output_type": "stream",
     "text": [
      "                                                                                \r"
     ]
    },
    {
     "data": {
      "text/plain": [
       "<AxesSubplot:xlabel='hour', ylabel='mean_songcount'>"
      ]
     },
     "execution_count": 36,
     "metadata": {},
     "output_type": "execute_result"
    },
    {
     "data": {
      "image/png": "[encoded data removed]",
      "text/plain": [
       "<Figure size 432x288 with 1 Axes>"
      ]
     },
     "metadata": {
      "needs_background": "light"
     },
     "output_type": "display_data"
    }
   ],
   "source": [
    "# Played song mean count of Churned vs Non-Churned users by time of day\n",
    "\n",
    "sns.lineplot(data=df_churn.filter(df_churn.page == \"NextSong\") \\\n",
    "    .groupby([\"Churn\",\"userId\",\"hour\"]) \\\n",
    "    .agg(F.count(\"page\").alias(\"songcount\")) \\\n",
    "    .groupby(\"Churn\",\"hour\") \\\n",
    "    .agg(F.mean(\"songcount\").alias(\"mean_songcount\")) \\\n",
    "    .sort([\"Churn\", \"hour\"]).toPandas(), x=\"hour\", y=\"mean_songcount\", hue=\"Churn\")"
   ]
  },
  {
   "cell_type": "code",
   "execution_count": 37,
   "metadata": {},
   "outputs": [
    {
     "name": "stdout",
     "output_type": "stream",
     "text": [
      "+-----+------------------------+\n",
      "|Churn|mean_days_since_register|\n",
      "+-----+------------------------+\n",
      "|    1|        67.4949494949495|\n",
      "|    0|       86.55014326647564|\n",
      "+-----+------------------------+\n",
      "\n"
     ]
    }
   ],
   "source": [
    "# days passed since registration day of users\n",
    "df_churn.groupby(\"Churn\",\"userId\") \\\n",
    "    .agg((((F.max(\"ts\") - F.max(\"registration\"))/(1000*60*60*24)).cast('integer')).alias(\"days_since_register\")) \\\n",
    "    .groupby(\"Churn\") \\\n",
    "    .agg(F.mean(\"days_since_register\").alias(\"mean_days_since_register\")) \\\n",
    "    .show()"
   ]
  },
  {
   "cell_type": "code",
   "execution_count": 38,
   "metadata": {},
   "outputs": [
    {
     "name": "stderr",
     "output_type": "stream",
     "text": [
      "[Stage 201:>                                                        (0 + 1) / 1]\r"
     ]
    },
    {
     "name": "stdout",
     "output_type": "stream",
     "text": [
      "+-----+-----+-----+\n",
      "|Churn|level|count|\n",
      "+-----+-----+-----+\n",
      "|    0| free|  140|\n",
      "|    1| free|   32|\n",
      "|    0| paid|  209|\n",
      "|    1| paid|   67|\n",
      "+-----+-----+-----+\n",
      "\n"
     ]
    },
    {
     "name": "stderr",
     "output_type": "stream",
     "text": [
      "                                                                                \r"
     ]
    }
   ],
   "source": [
    "# latest account level of users\n",
    "df_churn.sort(\"ts\") \\\n",
    "    .groupby(\"Churn\",\"userId\") \\\n",
    "    .agg(F.last(\"level\").alias(\"level\")) \\\n",
    "    .groupby(\"Churn\", \"level\") \\\n",
    "    .agg(F.count(\"userId\").alias(\"count\")) \\\n",
    "    .sort([\"level\",\"Churn\"]).show()"
   ]
  },
  {
   "cell_type": "code",
   "execution_count": 39,
   "metadata": {},
   "outputs": [
    {
     "name": "stdout",
     "output_type": "stream",
     "text": [
      "+-----+-------------------------+------------------+\n",
      "|Churn|page                     |mean_pagecount    |\n",
      "+-----+-------------------------+------------------+\n",
      "|0    |About                    |3.6565217391304348|\n",
      "|1    |About                    |3.0327868852459017|\n",
      "|0    |Add Friend               |20.85987261146497 |\n",
      "|1    |Add Friend               |16.178947368421053|\n",
      "|0    |Add to Playlist          |30.209580838323355|\n",
      "|1    |Add to Playlist          |24.03191489361702 |\n",
      "|1    |Cancel                   |1.0               |\n",
      "|1    |Cancellation Confirmation|1.0               |\n",
      "|0    |Downgrade                |13.127753303964758|\n",
      "|1    |Downgrade                |11.22972972972973 |\n",
      "|0    |Error                    |2.2185792349726774|\n",
      "|1    |Error                    |2.425             |\n",
      "|0    |Help                     |7.623655913978495 |\n",
      "|1    |Help                     |6.382716049382716 |\n",
      "|0    |Home                     |44.63848396501458 |\n",
      "|1    |Home                     |38.94845360824742 |\n",
      "|0    |Logout                   |14.475903614457831|\n",
      "|1    |Logout                   |12.595744680851064|\n",
      "|0    |NextSong                 |998.6189111747851 |\n",
      "|1    |NextSong                 |852.1111111111111 |\n",
      "|0    |Roll Advert              |18.318032786885247|\n",
      "|1    |Roll Advert              |24.288888888888888|\n",
      "|0    |Save Settings            |2.4922279792746114|\n",
      "|1    |Save Settings            |2.122448979591837 |\n",
      "|0    |Settings                 |7.9491525423728815|\n",
      "|1    |Settings                 |7.369047619047619 |\n",
      "|0    |Submit Downgrade         |1.1578947368421053|\n",
      "|1    |Submit Downgrade         |1.380952380952381 |\n",
      "|0    |Submit Upgrade           |1.2191011235955056|\n",
      "|1    |Submit Upgrade           |1.2727272727272727|\n",
      "|0    |Thumbs Down              |12.516666666666667|\n",
      "|1    |Thumbs Down              |12.98876404494382 |\n",
      "|0    |Thumbs Up                |57.26099706744868 |\n",
      "|1    |Thumbs Up                |43.87755102040816 |\n",
      "|0    |Upgrade                  |3.020661157024793 |\n",
      "|1    |Upgrade                  |3.2465753424657535|\n",
      "+-----+-------------------------+------------------+\n",
      "\n"
     ]
    }
   ],
   "source": [
    "# event count of all pages of users\n",
    "df_churn.groupby([\"Churn\",\"userId\",\"page\"]) \\\n",
    "    .agg(F.count(\"page\").alias(\"count\")) \\\n",
    "    .groupby([\"Churn\",\"page\"]) \\\n",
    "    .agg(F.mean(\"count\").alias(\"mean_pagecount\")) \\\n",
    "    .sort([\"page\", \"Churn\"]).show(50,truncate=False)"
   ]
  },
  {
   "cell_type": "code",
   "execution_count": 40,
   "metadata": {},
   "outputs": [
    {
     "name": "stdout",
     "output_type": "stream",
     "text": [
      "+-----+------+------------------+\n",
      "|Churn|status|  mean_statuscount|\n",
      "+-----+------+------------------+\n",
      "|    0|   200| 1113.266475644699|\n",
      "|    1|   200| 960.3030303030303|\n",
      "|    0|   307| 102.0835734870317|\n",
      "|    1|   307| 85.64646464646465|\n",
      "|    0|   404|2.2185792349726774|\n",
      "|    1|   404|             2.425|\n",
      "+-----+------+------------------+\n",
      "\n"
     ]
    }
   ],
   "source": [
    "# status counts of users\n",
    "df_churn.groupby([\"Churn\",\"userId\",\"status\"]) \\\n",
    "    .agg(F.count(\"status\").alias(\"count\")) \\\n",
    "    .groupby(\"Churn\",\"status\") \\\n",
    "    .agg(F.mean(\"count\").alias(\"mean_statuscount\")) \\\n",
    "    .sort([\"status\",\"Churn\"]).show()"
   ]
  },
  {
   "cell_type": "code",
   "execution_count": 41,
   "metadata": {},
   "outputs": [
    {
     "name": "stdout",
     "output_type": "stream",
     "text": [
      "+-----+--------------------+\n",
      "|Churn|mean_totaleventcount|\n",
      "+-----+--------------------+\n",
      "|    1|  1046.9292929292928|\n",
      "|    0|  1215.9283667621776|\n",
      "+-----+--------------------+\n",
      "\n"
     ]
    }
   ],
   "source": [
    "# total event count of users\n",
    "df_churn.groupby([\"Churn\",\"userId\"]) \\\n",
    "    .agg(F.count(\"page\").alias(\"count\")) \\\n",
    "    .groupby([\"Churn\"]) \\\n",
    "    .agg(F.mean(\"count\").alias(\"mean_totaleventcount\")) \\\n",
    "    .show()"
   ]
  },
  {
   "cell_type": "code",
   "execution_count": 42,
   "metadata": {},
   "outputs": [
    {
     "name": "stdout",
     "output_type": "stream",
     "text": [
      "+-----+------------------+\n",
      "|Churn|       mean_length|\n",
      "+-----+------------------+\n",
      "|    1| 248.9939836060167|\n",
      "|    0|248.58486352452772|\n",
      "+-----+------------------+\n",
      "\n"
     ]
    }
   ],
   "source": [
    "# mean song length of users\n",
    "df_churn.groupby([\"Churn\"]) \\\n",
    "    .agg(F.mean(\"length\").alias(\"mean_length\")) \\\n",
    "    .show()"
   ]
  },
  {
   "cell_type": "code",
   "execution_count": 43,
   "metadata": {},
   "outputs": [
    {
     "name": "stdout",
     "output_type": "stream",
     "text": [
      "+-----+-----------------+\n",
      "|Churn| mean_sessiontime|\n",
      "+-----+-----------------+\n",
      "|    1|17632.19381787803|\n",
      "|    0|17857.60495596969|\n",
      "+-----+-----------------+\n",
      "\n"
     ]
    }
   ],
   "source": [
    "# mean session time of users\n",
    "df_churn.groupby(['Churn','userId','sessionId']) \\\n",
    "    .agg(F.min(\"ts\").alias(\"session_start\"), F.max(\"ts\").alias(\"session_end\")) \\\n",
    "    .withColumn(\"sessiontime\", (F.col(\"session_end\") - F.col(\"session_start\")) / 1000) \\\n",
    "    .groupby([\"Churn\"]) \\\n",
    "    .agg(F.mean(\"sessiontime\").alias(\"mean_sessiontime\")) \\\n",
    "    .show()"
   ]
  },
  {
   "cell_type": "code",
   "execution_count": 44,
   "metadata": {},
   "outputs": [
    {
     "name": "stdout",
     "output_type": "stream",
     "text": [
      "+-----+------------------+\n",
      "|Churn|avg(avgsessiongap)|\n",
      "+-----+------------------+\n",
      "|    1| 323929.4607246513|\n",
      "|    0| 576556.7187779035|\n",
      "+-----+------------------+\n",
      "\n"
     ]
    }
   ],
   "source": [
    "# average time gap between sessions of users\n",
    "df_churn.groupby(['Churn','userId','sessionId']) \\\n",
    "    .agg(F.min(\"ts\").alias(\"session_start\"), F.max(\"ts\").alias(\"session_end\")) \\\n",
    "    .groupby([\"Churn\", \"userId\"]) \\\n",
    "    .agg(F.count(\"userId\").alias('sessioncount'), ((F.max(\"session_end\") - F.min(\"session_start\"))/1000).alias(\"totaltimepassed\"), (F.sum(F.col(\"session_end\") - F.col(\"session_start\"))/1000).alias(\"totalsessiontime\")) \\\n",
    "    .withColumn(\"avgsessiongap\", (F.col(\"totaltimepassed\") - F.col(\"totalsessiontime\")) / (F.col(\"sessioncount\")-1)) \\\n",
    "    .groupby([\"Churn\"]) \\\n",
    "    .agg(F.mean(\"avgsessiongap\")) \\\n",
    "    .show()"
   ]
  },
  {
   "cell_type": "code",
   "execution_count": 45,
   "metadata": {},
   "outputs": [
    {
     "data": {
      "text/plain": [
       "<AxesSubplot:xlabel='count', ylabel='Count'>"
      ]
     },
     "execution_count": 45,
     "metadata": {},
     "output_type": "execute_result"
    },
    {
     "data": {
      "image/png": "[encoded data removed]",
      "text/plain": [
       "<Figure size 432x288 with 1 Axes>"
      ]
     },
     "metadata": {
      "needs_background": "light"
     },
     "output_type": "display_data"
    }
   ],
   "source": [
    "# Thumbs up count of churned vs non-churned users\n",
    "sns.histplot(data=df_churn.filter(df_churn.page == \"Thumbs Up\") \\\n",
    "    .groupby([\"Churn\",\"userId\"]) \\\n",
    "    .agg(F.count(\"page\").alias(\"count\")) \\\n",
    "    .toPandas(), x=\"count\", hue=\"Churn\")"
   ]
  },
  {
   "cell_type": "markdown",
   "metadata": {},
   "source": [
    "user_window = Window \\\n",
    "    .partitionBy('userId') \\\n",
    "    .orderBy(desc('ts')) \\\n",
    "    .rangeBetween(Window.unboundedPreceding, 0)"
   ]
  },
  {
   "cell_type": "markdown",
   "metadata": {},
   "source": [
    "# Feature Engineering\n",
    "Once you've familiarized yourself with the data, build out the features you find promising to train your model on. To work with the full dataset, you can follow the following steps.\n",
    "- Write a script to extract the necessary features from the smaller subset of data\n",
    "- Ensure that your script is scalable, using the best practices discussed in Lesson 3\n",
    "- Try your script on the full data set, debugging your script if necessary\n",
    "\n",
    "If you are working in the classroom workspace, you can just extract features based on the small subset of data contained here. Be sure to transfer over this work to the larger dataset when you work on your Spark cluster."
   ]
  },
  {
   "cell_type": "code",
   "execution_count": 46,
   "metadata": {},
   "outputs": [],
   "source": [
    "# Change gender value to binary values\n",
    "genders = df_churn.groupby(\"userId\") \\\n",
    "                .agg(F.first(\"gender\").alias(\"gender\")) \\\n",
    "                .replace(['M', 'F'], ['0', '1'], 'gender') \\\n",
    "                .select('userId', F.col('gender').cast('int').alias('gender'))"
   ]
  },
  {
   "cell_type": "code",
   "execution_count": 47,
   "metadata": {},
   "outputs": [],
   "source": [
    "# days passed since registration day of users\n",
    "days_passed = df_churn.groupby(\"userId\") \\\n",
    "    .agg((((F.max(\"ts\") - F.max(\"registration\"))/(1000*60*60*24)).cast('integer')).alias(\"days_since_register\"))"
   ]
  },
  {
   "cell_type": "code",
   "execution_count": 48,
   "metadata": {},
   "outputs": [],
   "source": [
    "# latest account level of users\n",
    "latest_level = df_churn.sort(\"ts\") \\\n",
    "    .groupby(\"userId\") \\\n",
    "    .agg(F.last(\"level\").alias(\"level\")) \\\n",
    "    .replace(['free', 'paid'], ['0', '1'], 'level') \\\n",
    "    .select('userId', F.col('level').cast('int').alias('level'))"
   ]
  },
  {
   "cell_type": "code",
   "execution_count": 49,
   "metadata": {},
   "outputs": [],
   "source": [
    "# Calculate page count by users\n",
    "def page_count(df,page):\n",
    "    return df.filter(df[\"page\"] == page) \\\n",
    "            .groupby(\"userId\") \\\n",
    "            .agg(F.count(\"page\").alias(\"count_\" + page.replace(\" \",\"\")))"
   ]
  },
  {
   "cell_type": "code",
   "execution_count": 50,
   "metadata": {},
   "outputs": [],
   "source": [
    "count_about = page_count(df_churn,\"About\")\n",
    "count_addafriend = page_count(df_churn,\"Add Friend\")\n",
    "count_addtoplaylist = page_count(df_churn,\"Add to Playlist\")\n",
    "count_downgrade = page_count(df_churn,\"Downgrade\")\n",
    "count_error = page_count(df_churn,\"Error\")\n",
    "count_help = page_count(df_churn,\"Help\")\n",
    "count_home = page_count(df_churn,\"Home\")\n",
    "count_nextsong = page_count(df_churn,\"NextSong\")\n",
    "count_rolladvert = page_count(df_churn,\"Roll Advert\")\n",
    "count_settings = page_count(df_churn,\"Settings\")\n",
    "count_submitdowngrade = page_count(df_churn,\"Submit Downgrade\")\n",
    "count_submitupgrade = page_count(df_churn,\"Submit Upgrade\")\n",
    "count_thumbsdown = page_count(df_churn,\"Thumbs Down\")\n",
    "count_thumbsup = page_count(df_churn,\"Thumbs Up\")\n",
    "count_upgrade = page_count(df_churn,\"Upgrade\")"
   ]
  },
  {
   "cell_type": "code",
   "execution_count": 51,
   "metadata": {},
   "outputs": [],
   "source": [
    "dailyThumbsDown = df_churn.filter(df_churn.page == 'Thumbs Down') \\\n",
    "    .groupby(['userId','date']) \\\n",
    "    .agg(F.count('page').alias('count')) \\\n",
    "    .groupby('userId') \\\n",
    "    .agg(F.mean('count').alias('avgDailyThumbsDown'))"
   ]
  },
  {
   "cell_type": "code",
   "execution_count": 52,
   "metadata": {},
   "outputs": [],
   "source": [
    "# status counts by users\n",
    "def status_count(df, status):\n",
    "    return df.filter(df[\"status\"] == status) \\\n",
    "        .groupby([\"userId\"]) \\\n",
    "        .agg(F.count(\"status\").alias(\"count_status\"+status))"
   ]
  },
  {
   "cell_type": "code",
   "execution_count": 53,
   "metadata": {},
   "outputs": [],
   "source": [
    "count_status200 = status_count(df_churn,\"200\")\n",
    "count_status307 = status_count(df_churn,\"307\")\n",
    "count_status404 = status_count(df_churn,\"404\")"
   ]
  },
  {
   "cell_type": "code",
   "execution_count": 54,
   "metadata": {},
   "outputs": [],
   "source": [
    "# total event count of users\n",
    "count_totalevent = df_churn.groupby([\"userId\"]) \\\n",
    "    .agg(F.count(\"page\").alias(\"count\"))"
   ]
  },
  {
   "cell_type": "code",
   "execution_count": 55,
   "metadata": {},
   "outputs": [],
   "source": [
    "# mean session time of users\n",
    "avg_session_time = df_churn.groupby(['userId','sessionId']) \\\n",
    "    .agg(F.min(\"ts\").alias(\"session_start\"), F.max(\"ts\").alias(\"session_end\")) \\\n",
    "    .withColumn(\"sessiontime\", (F.col(\"session_end\") - F.col(\"session_start\")) / 1000 / 3600) \\\n",
    "    .groupby(\"userId\") \\\n",
    "    .agg(F.mean(\"sessiontime\").alias(\"avg_session_time\"))"
   ]
  },
  {
   "cell_type": "code",
   "execution_count": 56,
   "metadata": {},
   "outputs": [],
   "source": [
    "# average time gap between sessions of users\n",
    "avg_sessiongap_time = df_churn.groupby(['userId','sessionId']) \\\n",
    "    .agg(F.min(\"ts\").alias(\"session_start\"), F.max(\"ts\").alias(\"session_end\")) \\\n",
    "    .groupby([\"userId\"]) \\\n",
    "    .agg(F.count(\"userId\").alias('sessioncount'), ((F.max(\"session_end\") - F.min(\"session_start\"))/1000/3600).alias(\"totaltimepassed\"), (F.sum(F.col(\"session_end\") - F.col(\"session_start\"))/1000/3600).alias(\"totalsessiontime\")) \\\n",
    "    .withColumn(\"avgsessiongap\", (F.col(\"totaltimepassed\") - F.col(\"totalsessiontime\")) / (F.col(\"sessioncount\")-1)) \\\n",
    "    .select(\"userId\",\"avgsessiongap\")"
   ]
  },
  {
   "cell_type": "code",
   "execution_count": 57,
   "metadata": {},
   "outputs": [],
   "source": [
    "avg_sessioncount = df_churn.select(['userId','date','sessionId']) \\\n",
    "    .dropDuplicates() \\\n",
    "    .groupby(['userId','date']) \\\n",
    "    .agg(F.count('sessionId').alias('count')) \\\n",
    "    .groupby('userId') \\\n",
    "    .agg(F.mean('count').alias('avgdailysession'))"
   ]
  },
  {
   "cell_type": "code",
   "execution_count": 58,
   "metadata": {},
   "outputs": [],
   "source": [
    "df_labels = df_churn.select(df_churn['userId'], df_churn[\"Churn\"].alias('label')).dropDuplicates()"
   ]
  },
  {
   "cell_type": "code",
   "execution_count": 59,
   "metadata": {},
   "outputs": [],
   "source": [
    "model_data = df_labels.join(genders, \"userId\", \"outer\") \\\n",
    "                    .join(days_passed, \"userId\", \"outer\") \\\n",
    "                    .join(latest_level, \"userId\", \"outer\") \\\n",
    "                    .join(count_about, \"userId\", \"outer\") \\\n",
    "                    .join(count_addafriend, \"userId\", \"outer\") \\\n",
    "                    .join(count_addtoplaylist, \"userId\", \"outer\") \\\n",
    "                    .join(count_downgrade, \"userId\", \"outer\") \\\n",
    "                    .join(count_error, \"userId\", \"outer\") \\\n",
    "                    .join(count_help, \"userId\", \"outer\") \\\n",
    "                    .join(count_home, \"userId\", \"outer\") \\\n",
    "                    .join(count_nextsong, \"userId\", \"outer\") \\\n",
    "                    .join(count_rolladvert, \"userId\", \"outer\") \\\n",
    "                    .join(count_settings, \"userId\", \"outer\") \\\n",
    "                    .join(count_submitdowngrade, \"userId\", \"outer\") \\\n",
    "                    .join(count_submitupgrade, \"userId\", \"outer\") \\\n",
    "                    .join(count_thumbsdown, \"userId\", \"outer\") \\\n",
    "                    .join(count_thumbsup, \"userId\", \"outer\") \\\n",
    "                    .join(count_upgrade, \"userId\", \"outer\") \\\n",
    "                    .join(count_status200, \"userId\", \"outer\") \\\n",
    "                    .join(count_status307, \"userId\", \"outer\") \\\n",
    "                    .join(count_status404, \"userId\", \"outer\") \\\n",
    "                    .join(count_totalevent, \"userId\", \"outer\") \\\n",
    "                    .join(dailyThumbsDown, \"userId\", \"outer\") \\\n",
    "                    .join(avg_session_time, \"userId\", \"outer\") \\\n",
    "                    .join(avg_sessioncount, \"userId\", \"outer\") \\\n",
    "                    .join(avg_sessiongap_time, \"userId\", \"outer\") \\\n",
    "                    .drop(\"userId\").fillna(0)"
   ]
  },
  {
   "cell_type": "code",
   "execution_count": 60,
   "metadata": {},
   "outputs": [
    {
     "name": "stderr",
     "output_type": "stream",
     "text": [
      "22/02/08 16:04:30 WARN package: Truncated the string representation of a plan since it was too large. This behavior can be adjusted by setting 'spark.sql.debug.maxToStringFields'.\n",
      "[Stage 288:>                (0 + 1) / 1][Stage 292:>                (0 + 0) / 1]\r"
     ]
    },
    {
     "name": "stdout",
     "output_type": "stream",
     "text": [
      "+-----+------+-------------------+-----+-----------+---------------+-------------------+---------------+-----------+----------+----------+--------------+----------------+--------------+---------------------+-------------------+----------------+--------------+-------------+---------------+---------------+---------------+-----+------------------+------------------+------------------+------------------+\n",
      "|label|gender|days_since_register|level|count_About|count_AddFriend|count_AddtoPlaylist|count_Downgrade|count_Error|count_Help|count_Home|count_NextSong|count_RollAdvert|count_Settings|count_SubmitDowngrade|count_SubmitUpgrade|count_ThumbsDown|count_ThumbsUp|count_Upgrade|count_status200|count_status307|count_status404|count|avgDailyThumbsDown|  avg_session_time|   avgdailysession|     avgsessiongap|\n",
      "+-----+------+-------------------+-----+-----------+---------------+-------------------+---------------+-----------+----------+----------+--------------+----------------+--------------+---------------------+-------------------+----------------+--------------+-------------+---------------+---------------+---------------+-----+------------------+------------------+------------------+------------------+\n",
      "|    1|     0|                 10|    1|          0|              3|                 14|              1|          1|         3|        15|           360|               0|             2|                    0|                  0|               1|            17|            0|            396|             26|              1|  423|               1.0|             25.04|               1.0|               0.0|\n",
      "|    0|     0|                 65|    1|         12|             71|                 94|             40|          3|        17|       135|          3382|               8|            17|                    0|                  1|              37|           143|            1|           3706|            290|              3| 3999|              1.85| 5.841296296296297|1.3529411764705883|32.413077485380114|\n",
      "|    1|     1|                 44|    0|          1|              1|                  3|              0|          0|         1|         4|            96|              13|             3|                    0|                  0|               1|             5|            2|            124|             10|              0|  134|               1.0| 2.294351851851852|               1.5|12.579999999999998|\n",
      "|    0|     1|                129|    0|          0|              0|                  3|              2|          0|         2|        12|           137|               5|             0|                    1|                  1|               2|             8|            1|            162|             15|              0|  177|               2.0|2.5043750000000005|               1.0| 184.9312962962963|\n",
      "|    1|     1|                 50|    1|          2|              8|                 19|             13|          1|         3|        31|           661|              41|             4|                    0|                  1|              10|            16|            2|            777|             49|              1|  827|               2.0| 4.948796296296297|1.0833333333333333| 83.36218749999999|\n",
      "+-----+------+-------------------+-----+-----------+---------------+-------------------+---------------+-----------+----------+----------+--------------+----------------+--------------+---------------------+-------------------+----------------+--------------+-------------+---------------+---------------+---------------+-----+------------------+------------------+------------------+------------------+\n",
      "only showing top 5 rows\n",
      "\n"
     ]
    },
    {
     "name": "stderr",
     "output_type": "stream",
     "text": [
      "                                                                                \r"
     ]
    }
   ],
   "source": [
    "model_data.show(5)"
   ]
  },
  {
   "cell_type": "markdown",
   "metadata": {},
   "source": [
    "# Modeling\n",
    "Split the full dataset into train, test, and validation sets. Test out several of the machine learning methods you learned. Evaluate the accuracy of the various models, tuning parameters as necessary. Determine your winning model based on test accuracy and report results on the validation set. Since the churned users are a fairly small subset, I suggest using F1 score as the metric to optimize."
   ]
  },
  {
   "cell_type": "code",
   "execution_count": 61,
   "metadata": {},
   "outputs": [],
   "source": [
    "from pyspark.ml.feature import VectorAssembler, Normalizer, StandardScaler, MinMaxScaler\n",
    "from pyspark.ml import Pipeline\n",
    "from pyspark.ml.classification import LogisticRegression, RandomForestClassifier, GBTClassifier, \\\n",
    "    NaiveBayes, DecisionTreeClassifier\n",
    "from pyspark.ml.tuning import CrossValidator, ParamGridBuilder\n",
    "from pyspark.ml.evaluation import MulticlassClassificationEvaluator, BinaryClassificationEvaluator\n",
    "from sklearn.metrics import roc_curve\n",
    "import time"
   ]
  },
  {
   "cell_type": "code",
   "execution_count": 62,
   "metadata": {},
   "outputs": [],
   "source": [
    "def split_data(data, seed=0):\n",
    "    \"\"\"\n",
    "    Splits data into train and test data 80:20 ratip\n",
    "    \n",
    "    Input:\n",
    "    data [DataFrame]: Data with features\n",
    "    seed [int]: seed number for generator\n",
    "        \n",
    "    Output:\n",
    "    train [DataFrame]: Train dataset\n",
    "    test [DataFrame]: Test dataset.\n",
    "    \"\"\"\n",
    "    train, test = data.randomSplit([0.8, 0.2], seed=seed);\n",
    "    return train, test\n",
    "\n",
    "def create_pipeline(data, classifier, scaler):\n",
    "    \"\"\"\n",
    "    Create pipeline\n",
    "    \n",
    "    Input:\n",
    "    data [Dataframe]: Data with features\n",
    "    classifier: Machine learning classifier\n",
    "\n",
    "    Returns:\n",
    "    pipeline: Created pipeline\n",
    "    \"\"\"\n",
    "    features = data.drop('label').columns\n",
    "    assembler = VectorAssembler(inputCols=features, outputCol='NumFeatures')\n",
    "    pipeline = Pipeline(stages=[assembler, scaler, classifier]);\n",
    "\n",
    "    return pipeline"
   ]
  },
  {
   "cell_type": "code",
   "execution_count": 63,
   "metadata": {},
   "outputs": [],
   "source": [
    "def fit_model(data, classifier, seed=0):\n",
    "    \"\"\"\n",
    "    Fit model and calculate metrics\n",
    "    \n",
    "    Input:\n",
    "    data [Dataframe]: Data with features\n",
    "    classifier: Machine learning classifier\n",
    "    seed [int]: seed number for generator\n",
    "        \n",
    "    Output:\n",
    "    model: The fitted model.\n",
    "    metrics: The fitted model's metrics.\n",
    "    \"\"\"\n",
    "    start_time = time.time()\n",
    "    print('Model preparation is starting...')\n",
    "    # Split data into train and test subset\n",
    "    train, test = split_data(data, seed)\n",
    "    print('Dataset split is done.')\n",
    "\n",
    "    # Create pipeline\n",
    "    scaler = StandardScaler(inputCol='NumFeatures', outputCol='features')\n",
    "    pipeline = create_pipeline(data, classifier, scaler)\n",
    "    print('Pipeline creation is done')\n",
    "\n",
    "    # Train model\n",
    "    model = pipeline.fit(train)\n",
    "    print('Training is done')\n",
    "\n",
    "    # Get metrics\n",
    "    metrics = calc_metrics(model, test)\n",
    "    print('Metric preparation is done.')\n",
    "\n",
    "    fitting_duration = time.time() - start_time\n",
    "    \n",
    "    print(f'Model fitting is done ({int(fitting_duration)} s).')\n",
    "    \n",
    "    return model, metrics"
   ]
  },
  {
   "cell_type": "code",
   "execution_count": 64,
   "metadata": {},
   "outputs": [],
   "source": [
    "def calc_metrics(model, test):\n",
    "    \"\"\"\n",
    "    Calculates the metrics of the specified model.\n",
    "    \n",
    "    Input:\n",
    "    model: Fitted model\n",
    "    test: test/validation dataset\n",
    "        \n",
    "    Output:\n",
    "    metrics: Calculated metrics\n",
    "    \"\"\"\n",
    "    # Create both evaluators\n",
    "    evaluatorMulti = MulticlassClassificationEvaluator(labelCol='label', predictionCol='prediction')\n",
    "    evaluator = BinaryClassificationEvaluator(labelCol='label', rawPredictionCol='prediction', metricName='areaUnderROC')\n",
    "\n",
    "    # Make predicitons\n",
    "    prediction = model.transform(test).select('label', 'prediction')\n",
    "\n",
    "    # Get metrics\n",
    "    acc = evaluatorMulti.evaluate(prediction, {evaluatorMulti.metricName: 'accuracy'})\n",
    "    f1 = evaluatorMulti.evaluate(prediction, {evaluatorMulti.metricName: 'f1'})\n",
    "    weightedPrecision = evaluatorMulti.evaluate(prediction, {evaluatorMulti.metricName: 'weightedPrecision'})\n",
    "    weightedRecall = evaluatorMulti.evaluate(prediction, {evaluatorMulti.metricName: 'weightedRecall'})\n",
    "    auc = evaluator.evaluate(prediction)\n",
    "    \n",
    "    metrics = pd.DataFrame(index=['F1', 'accuracy', 'weighted precision', 'weighted recall', 'AUC'], \\\n",
    "                           data={'metrics value': [f1, acc, weightedPrecision, weightedRecall, auc]})\n",
    "    \n",
    "    return metrics"
   ]
  },
  {
   "cell_type": "code",
   "execution_count": 65,
   "metadata": {},
   "outputs": [],
   "source": [
    "# Plot feature importances\n",
    "def plot_feature_importance(data, model, height, title):\n",
    "    features = data.drop('label').columns\n",
    "    feature_coeff = model.stages[-1].featureImportances\n",
    "    feature_importances = pd.DataFrame(list(zip(features, feature_coeff)), \\\n",
    "                                       columns=['Feature', 'FeatureImportances']) \\\n",
    "        .sort_values('FeatureImportances', ascending=False)\n",
    "\n",
    "    values = feature_importances.sort_values(by='FeatureImportances', ascending=False)['FeatureImportances']\n",
    "    labels = feature_importances.sort_values(by='FeatureImportances', ascending=False)['Feature']\n",
    "\n",
    "    plt.figure(figsize = [8, height])\n",
    "    plt.barh(np.arange(len(values)), values, height=0.6)\n",
    "    ax = plt.gca()\n",
    "    ax.set_yticks(np.arange(len(labels)))\n",
    "    ax.set_yticklabels(labels)\n",
    "    ax.invert_yaxis()  # labels read top-to-bottom\n",
    "    ax.set_xlabel('FeatureImportances')\n",
    "    ax.set_ylabel('Features')\n",
    "    ax.set_title(title)\n",
    "    plt.grid(True, axis='x', linewidth= 1, linestyle=\"--\")\n",
    "\n",
    "    plt.show()"
   ]
  },
  {
   "cell_type": "code",
   "execution_count": 66,
   "metadata": {},
   "outputs": [
    {
     "name": "stdout",
     "output_type": "stream",
     "text": [
      "Model preparation is starting...\n",
      "Dataset split is done.\n",
      "Pipeline creation is done\n"
     ]
    },
    {
     "name": "stderr",
     "output_type": "stream",
     "text": [
      "22/02/08 16:05:19 WARN InstanceBuilder$NativeBLAS: Failed to load implementation from:dev.ludovic.netlib.blas.JNIBLAS\n",
      "22/02/08 16:05:19 WARN InstanceBuilder$NativeBLAS: Failed to load implementation from:dev.ludovic.netlib.blas.ForeignLinkerBLAS\n",
      "[Stage 10810:=(1 + 0) / 1][Stage 10812:>(0 + 1) / 1][Stage 10814:>(0 + 0) / 1]  \r"
     ]
    },
    {
     "name": "stdout",
     "output_type": "stream",
     "text": [
      "Training is done\n"
     ]
    },
    {
     "name": "stderr",
     "output_type": "stream",
     "text": [
      "[Stage 14927:>                                                      (0 + 1) / 1]\r"
     ]
    },
    {
     "name": "stdout",
     "output_type": "stream",
     "text": [
      "Metric preparation is done.\n",
      "Model fitting is done (112 s).\n"
     ]
    },
    {
     "name": "stderr",
     "output_type": "stream",
     "text": [
      "                                                                                \r"
     ]
    }
   ],
   "source": [
    "classifier = LogisticRegression(featuresCol='features', labelCol = 'label')\n",
    "model_lr, metrics_lr = fit_model(model_data, classifier)"
   ]
  },
  {
   "cell_type": "code",
   "execution_count": 67,
   "metadata": {},
   "outputs": [
    {
     "data": {
      "text/html": [
       "<div>\n",
       "<style scoped>\n",
       "    .dataframe tbody tr th:only-of-type {\n",
       "        vertical-align: middle;\n",
       "    }\n",
       "\n",
       "    .dataframe tbody tr th {\n",
       "        vertical-align: top;\n",
       "    }\n",
       "\n",
       "    .dataframe thead th {\n",
       "        text-align: right;\n",
       "    }\n",
       "</style>\n",
       "<table border=\"1\" class=\"dataframe\">\n",
       "  <thead>\n",
       "    <tr style=\"text-align: right;\">\n",
       "      <th></th>\n",
       "      <th>metrics value</th>\n",
       "    </tr>\n",
       "  </thead>\n",
       "  <tbody>\n",
       "    <tr>\n",
       "      <th>F1</th>\n",
       "      <td>0.734306</td>\n",
       "    </tr>\n",
       "    <tr>\n",
       "      <th>accuracy</th>\n",
       "      <td>0.755814</td>\n",
       "    </tr>\n",
       "    <tr>\n",
       "      <th>weighted precision</th>\n",
       "      <td>0.723732</td>\n",
       "    </tr>\n",
       "    <tr>\n",
       "      <th>weighted recall</th>\n",
       "      <td>0.755814</td>\n",
       "    </tr>\n",
       "    <tr>\n",
       "      <th>AUC</th>\n",
       "      <td>0.579340</td>\n",
       "    </tr>\n",
       "  </tbody>\n",
       "</table>\n",
       "</div>"
      ],
      "text/plain": [
       "                    metrics value\n",
       "F1                       0.734306\n",
       "accuracy                 0.755814\n",
       "weighted precision       0.723732\n",
       "weighted recall          0.755814\n",
       "AUC                      0.579340"
      ]
     },
     "execution_count": 67,
     "metadata": {},
     "output_type": "execute_result"
    }
   ],
   "source": [
    "metrics_lr"
   ]
  },
  {
   "cell_type": "code",
   "execution_count": 68,
   "metadata": {},
   "outputs": [
    {
     "name": "stdout",
     "output_type": "stream",
     "text": [
      "Model preparation is starting...\n",
      "Dataset split is done.\n",
      "Pipeline creation is done\n"
     ]
    },
    {
     "name": "stderr",
     "output_type": "stream",
     "text": [
      "[Stage 20469:>(0 + 1) / 1][Stage 20471:>(0 + 0) / 1][Stage 20473:>(0 + 0) / 1]  \r"
     ]
    },
    {
     "name": "stdout",
     "output_type": "stream",
     "text": [
      "Training is done\n"
     ]
    },
    {
     "name": "stderr",
     "output_type": "stream",
     "text": [
      "[Stage 24588:>                                                      (0 + 1) / 1]\r"
     ]
    },
    {
     "name": "stdout",
     "output_type": "stream",
     "text": [
      "Metric preparation is done.\n",
      "Model fitting is done (106 s).\n"
     ]
    },
    {
     "name": "stderr",
     "output_type": "stream",
     "text": [
      "                                                                                \r"
     ]
    }
   ],
   "source": [
    "classifier = RandomForestClassifier(seed=5)\n",
    "model_rfc, metrics_rfc = fit_model(model_data, classifier, seed=5)"
   ]
  },
  {
   "cell_type": "code",
   "execution_count": 69,
   "metadata": {},
   "outputs": [
    {
     "data": {
      "text/html": [
       "<div>\n",
       "<style scoped>\n",
       "    .dataframe tbody tr th:only-of-type {\n",
       "        vertical-align: middle;\n",
       "    }\n",
       "\n",
       "    .dataframe tbody tr th {\n",
       "        vertical-align: top;\n",
       "    }\n",
       "\n",
       "    .dataframe thead th {\n",
       "        text-align: right;\n",
       "    }\n",
       "</style>\n",
       "<table border=\"1\" class=\"dataframe\">\n",
       "  <thead>\n",
       "    <tr style=\"text-align: right;\">\n",
       "      <th></th>\n",
       "      <th>metrics value</th>\n",
       "    </tr>\n",
       "  </thead>\n",
       "  <tbody>\n",
       "    <tr>\n",
       "      <th>F1</th>\n",
       "      <td>0.758024</td>\n",
       "    </tr>\n",
       "    <tr>\n",
       "      <th>accuracy</th>\n",
       "      <td>0.808219</td>\n",
       "    </tr>\n",
       "    <tr>\n",
       "      <th>weighted precision</th>\n",
       "      <td>0.847131</td>\n",
       "    </tr>\n",
       "    <tr>\n",
       "      <th>weighted recall</th>\n",
       "      <td>0.808219</td>\n",
       "    </tr>\n",
       "    <tr>\n",
       "      <th>AUC</th>\n",
       "      <td>0.611111</td>\n",
       "    </tr>\n",
       "  </tbody>\n",
       "</table>\n",
       "</div>"
      ],
      "text/plain": [
       "                    metrics value\n",
       "F1                       0.758024\n",
       "accuracy                 0.808219\n",
       "weighted precision       0.847131\n",
       "weighted recall          0.808219\n",
       "AUC                      0.611111"
      ]
     },
     "execution_count": 69,
     "metadata": {},
     "output_type": "execute_result"
    }
   ],
   "source": [
    "metrics_rfc"
   ]
  },
  {
   "cell_type": "code",
   "execution_count": 70,
   "metadata": {},
   "outputs": [
    {
     "name": "stdout",
     "output_type": "stream",
     "text": [
      "Model preparation is starting...\n",
      "Dataset split is done.\n",
      "Pipeline creation is done\n"
     ]
    },
    {
     "name": "stderr",
     "output_type": "stream",
     "text": [
      "                                                                                \r"
     ]
    },
    {
     "name": "stdout",
     "output_type": "stream",
     "text": [
      "Training is done\n"
     ]
    },
    {
     "name": "stderr",
     "output_type": "stream",
     "text": [
      "[Stage 37594:>(0 + 1) / 1][Stage 37596:>(0 + 1) / 1][Stage 37598:>(0 + 0) / 1]  \r"
     ]
    },
    {
     "name": "stdout",
     "output_type": "stream",
     "text": [
      "Metric preparation is done.\n",
      "Model fitting is done (81 s).\n"
     ]
    },
    {
     "name": "stderr",
     "output_type": "stream",
     "text": [
      "                                                                                \r"
     ]
    }
   ],
   "source": [
    "classifier = GBTClassifier()\n",
    "model_gbt, metrics_gbt = fit_model(model_data, classifier)"
   ]
  },
  {
   "cell_type": "markdown",
   "metadata": {},
   "source": [
    "features = model_data.drop('label').columns\n",
    "assembler = VectorAssembler(inputCols=features, outputCol='NumFeatures')\n",
    "scaler = StandardScaler(inputCol='NumFeatures', outputCol='features')\n",
    "classifier = GBTClassifier()\n",
    "pipeline = Pipeline(stages=[assembler, scaler, classifier])"
   ]
  },
  {
   "cell_type": "code",
   "execution_count": 71,
   "metadata": {},
   "outputs": [
    {
     "data": {
      "text/html": [
       "<div>\n",
       "<style scoped>\n",
       "    .dataframe tbody tr th:only-of-type {\n",
       "        vertical-align: middle;\n",
       "    }\n",
       "\n",
       "    .dataframe tbody tr th {\n",
       "        vertical-align: top;\n",
       "    }\n",
       "\n",
       "    .dataframe thead th {\n",
       "        text-align: right;\n",
       "    }\n",
       "</style>\n",
       "<table border=\"1\" class=\"dataframe\">\n",
       "  <thead>\n",
       "    <tr style=\"text-align: right;\">\n",
       "      <th></th>\n",
       "      <th>metrics value</th>\n",
       "    </tr>\n",
       "  </thead>\n",
       "  <tbody>\n",
       "    <tr>\n",
       "      <th>F1</th>\n",
       "      <td>0.844014</td>\n",
       "    </tr>\n",
       "    <tr>\n",
       "      <th>accuracy</th>\n",
       "      <td>0.848837</td>\n",
       "    </tr>\n",
       "    <tr>\n",
       "      <th>weighted precision</th>\n",
       "      <td>0.841923</td>\n",
       "    </tr>\n",
       "    <tr>\n",
       "      <th>weighted recall</th>\n",
       "      <td>0.848837</td>\n",
       "    </tr>\n",
       "    <tr>\n",
       "      <th>AUC</th>\n",
       "      <td>0.752160</td>\n",
       "    </tr>\n",
       "  </tbody>\n",
       "</table>\n",
       "</div>"
      ],
      "text/plain": [
       "                    metrics value\n",
       "F1                       0.844014\n",
       "accuracy                 0.848837\n",
       "weighted precision       0.841923\n",
       "weighted recall          0.848837\n",
       "AUC                      0.752160"
      ]
     },
     "execution_count": 71,
     "metadata": {},
     "output_type": "execute_result"
    }
   ],
   "source": [
    "metrics_gbt"
   ]
  },
  {
   "cell_type": "code",
   "execution_count": 76,
   "metadata": {},
   "outputs": [
    {
     "data": {
      "text/plain": [
       "{'seed': -3332618011018568457,\n",
       " 'maxDepth': 5,\n",
       " 'maxBins': 32,\n",
       " 'minInstancesPerNode': 1,\n",
       " 'minInfoGain': 0.0,\n",
       " 'maxMemoryInMB': 256,\n",
       " 'cacheNodeIds': False,\n",
       " 'checkpointInterval': 10,\n",
       " 'lossType': 'logistic',\n",
       " 'maxIter': 20,\n",
       " 'stepSize': 0.1,\n",
       " 'subsamplingRate': 1.0,\n",
       " 'impurity': 'variance',\n",
       " 'featureSubsetStrategy': 'all',\n",
       " 'validationTol': 0.01,\n",
       " 'leafCol': '',\n",
       " 'minWeightFractionPerNode': 0.0,\n",
       " 'predictionCol': 'prediction',\n",
       " 'featuresCol': 'features',\n",
       " 'labelCol': 'label',\n",
       " 'rawPredictionCol': 'rawPrediction',\n",
       " 'probabilityCol': 'probability'}"
      ]
     },
     "execution_count": 76,
     "metadata": {},
     "output_type": "execute_result"
    }
   ],
   "source": [
    "{param[0].name: param[1] for param in classifier.extractParamMap().items()}"
   ]
  },
  {
   "cell_type": "code",
   "execution_count": 78,
   "metadata": {},
   "outputs": [
    {
     "data": {
      "text/html": [
       "<div>\n",
       "<style scoped>\n",
       "    .dataframe tbody tr th:only-of-type {\n",
       "        vertical-align: middle;\n",
       "    }\n",
       "\n",
       "    .dataframe tbody tr th {\n",
       "        vertical-align: top;\n",
       "    }\n",
       "\n",
       "    .dataframe thead th {\n",
       "        text-align: right;\n",
       "    }\n",
       "</style>\n",
       "<table border=\"1\" class=\"dataframe\">\n",
       "  <thead>\n",
       "    <tr style=\"text-align: right;\">\n",
       "      <th></th>\n",
       "      <th>Linear Regression</th>\n",
       "      <th>Random Forest</th>\n",
       "      <th>Gradient Boosting</th>\n",
       "    </tr>\n",
       "  </thead>\n",
       "  <tbody>\n",
       "    <tr>\n",
       "      <th>F1</th>\n",
       "      <td>0.734306</td>\n",
       "      <td>0.758024</td>\n",
       "      <td>0.844014</td>\n",
       "    </tr>\n",
       "    <tr>\n",
       "      <th>accuracy</th>\n",
       "      <td>0.755814</td>\n",
       "      <td>0.808219</td>\n",
       "      <td>0.848837</td>\n",
       "    </tr>\n",
       "    <tr>\n",
       "      <th>weighted precision</th>\n",
       "      <td>0.723732</td>\n",
       "      <td>0.847131</td>\n",
       "      <td>0.841923</td>\n",
       "    </tr>\n",
       "    <tr>\n",
       "      <th>weighted recall</th>\n",
       "      <td>0.755814</td>\n",
       "      <td>0.808219</td>\n",
       "      <td>0.848837</td>\n",
       "    </tr>\n",
       "    <tr>\n",
       "      <th>AUC</th>\n",
       "      <td>0.579340</td>\n",
       "      <td>0.611111</td>\n",
       "      <td>0.752160</td>\n",
       "    </tr>\n",
       "  </tbody>\n",
       "</table>\n",
       "</div>"
      ],
      "text/plain": [
       "                    Linear Regression  Random Forest  Gradient Boosting\n",
       "F1                           0.734306       0.758024           0.844014\n",
       "accuracy                     0.755814       0.808219           0.848837\n",
       "weighted precision           0.723732       0.847131           0.841923\n",
       "weighted recall              0.755814       0.808219           0.848837\n",
       "AUC                          0.579340       0.611111           0.752160"
      ]
     },
     "execution_count": 78,
     "metadata": {},
     "output_type": "execute_result"
    }
   ],
   "source": [
    "comparison = pd.concat([metrics_lr,metrics_rfc, metrics_gbt],axis=1)\n",
    "comparison.columns = ['Linear Regression', 'Random Forest', 'Gradient Boosting']\n",
    "comparison"
   ]
  },
  {
   "cell_type": "code",
   "execution_count": 73,
   "metadata": {},
   "outputs": [
    {
     "name": "stderr",
     "output_type": "stream",
     "text": [
      "                                                                                \r"
     ]
    },
    {
     "data": {
      "image/png": "[encoded data removed]",
      "text/plain": [
       "<Figure size 432x288 with 1 Axes>"
      ]
     },
     "metadata": {
      "needs_background": "light"
     },
     "output_type": "display_data"
    }
   ],
   "source": [
    "predictions = model_gbt.transform(split_data(model_data)[1])\n",
    "def roc(ax, predictions, labels, title='ROC curve'):\n",
    "    pp = predictions.toPandas()['probability'].apply(lambda x:x[1]).values\n",
    "    tpr, fpr, _ = roc_curve(labels, pp)\n",
    "    ax.plot(tpr, fpr)\n",
    "    ax.set_xlabel('False Positive Rate')\n",
    "    ax.set_ylabel('True Positive Rate')\n",
    "    ax.set_title(title)\n",
    "    \n",
    "#plt.clf() # to be used for AWS EMR\n",
    "\n",
    "labels=predictions.toPandas()['label']\n",
    "fig = plt.figure()\n",
    "ax = fig.add_subplot(111)\n",
    "roc(ax, predictions,labels)"
   ]
  },
  {
   "cell_type": "code",
   "execution_count": 74,
   "metadata": {},
   "outputs": [
    {
     "data": {
      "image/png": "[encoded data removed]",
      "text/plain": [
       "<Figure size 576x792 with 1 Axes>"
      ]
     },
     "metadata": {
      "needs_background": "light"
     },
     "output_type": "display_data"
    }
   ],
   "source": [
    "plot_feature_importance(model_data, model_gbt, 11, 'Feature importance of Random Forest (seed 0)')"
   ]
  },
  {
   "cell_type": "code",
   "execution_count": 75,
   "metadata": {},
   "outputs": [
    {
     "name": "stdout",
     "output_type": "stream",
     "text": [
      "Cross validation started. Please wait...\n"
     ]
    },
    {
     "name": "stderr",
     "output_type": "stream",
     "text": [
      "22/02/08 16:20:39 WARN BlockManager: Asked to remove block broadcast_3095, which does not exist\n",
      "22/02/08 16:27:27 WARN BlockManager: Asked to remove block broadcast_3437, which does not exist\n",
      "                                                                                2]]\r"
     ]
    },
    {
     "name": "stdout",
     "output_type": "stream",
     "text": [
      "Cross validation done (3561 s).\n",
      "\n",
      "Cross validation parameters ordered by score, descending:\n"
     ]
    },
    {
     "data": {
      "text/html": [
       "<div>\n",
       "<style scoped>\n",
       "    .dataframe tbody tr th:only-of-type {\n",
       "        vertical-align: middle;\n",
       "    }\n",
       "\n",
       "    .dataframe tbody tr th {\n",
       "        vertical-align: top;\n",
       "    }\n",
       "\n",
       "    .dataframe thead th {\n",
       "        text-align: right;\n",
       "    }\n",
       "</style>\n",
       "<table border=\"1\" class=\"dataframe\">\n",
       "  <thead>\n",
       "    <tr style=\"text-align: right;\">\n",
       "      <th></th>\n",
       "      <th>maxIter</th>\n",
       "      <th>maxDepth</th>\n",
       "      <th>maxBins</th>\n",
       "      <th>score</th>\n",
       "    </tr>\n",
       "  </thead>\n",
       "  <tbody>\n",
       "    <tr>\n",
       "      <th>2</th>\n",
       "      <td>50</td>\n",
       "      <td>2</td>\n",
       "      <td>32</td>\n",
       "      <td>0.785148</td>\n",
       "    </tr>\n",
       "    <tr>\n",
       "      <th>0</th>\n",
       "      <td>10</td>\n",
       "      <td>2</td>\n",
       "      <td>32</td>\n",
       "      <td>0.767808</td>\n",
       "    </tr>\n",
       "    <tr>\n",
       "      <th>3</th>\n",
       "      <td>50</td>\n",
       "      <td>5</td>\n",
       "      <td>32</td>\n",
       "      <td>0.743613</td>\n",
       "    </tr>\n",
       "    <tr>\n",
       "      <th>1</th>\n",
       "      <td>10</td>\n",
       "      <td>5</td>\n",
       "      <td>32</td>\n",
       "      <td>0.738034</td>\n",
       "    </tr>\n",
       "  </tbody>\n",
       "</table>\n",
       "</div>"
      ],
      "text/plain": [
       "   maxIter  maxDepth  maxBins     score\n",
       "2       50         2       32  0.785148\n",
       "0       10         2       32  0.767808\n",
       "3       50         5       32  0.743613\n",
       "1       10         5       32  0.738034"
      ]
     },
     "execution_count": 75,
     "metadata": {},
     "output_type": "execute_result"
    }
   ],
   "source": [
    "# Cross Validation\n",
    "print('Cross validation started. Please wait...')\n",
    "\n",
    "# Create classifier\n",
    "gbt = GBTClassifier(seed=0)\n",
    "\n",
    "# Create pipeline\n",
    "scaler = StandardScaler(inputCol='NumFeatures', outputCol='features')\n",
    "pipeline = create_pipeline(model_data, gbt, scaler)\n",
    "\n",
    "# Define params\n",
    "paramGrid_gbt = ParamGridBuilder() \\\n",
    "    .addGrid(gbt.maxIter, [10, 50]) \\\n",
    "    .addGrid(gbt.maxDepth,[2, 5]) \\\n",
    "    .addGrid(gbt.maxBins, [32]) \\\n",
    "    .build()\n",
    "\n",
    "# Create cross validator\n",
    "crossval_gbt = CrossValidator(estimator = pipeline,\n",
    "                              estimatorParamMaps = paramGrid_gbt,\n",
    "                              evaluator = MulticlassClassificationEvaluator(),\n",
    "                              numFolds = 2)\n",
    "\n",
    "# Fit model\n",
    "start_time = time.time()\n",
    "crossval_model_gbt = crossval_gbt.fit(split_data(model_data)[0]) # train\n",
    "duration = time.time() - start_time\n",
    "\n",
    "print(f'Cross validation done ({int(duration)} s).')\n",
    "\n",
    "# Show best params\n",
    "print('\\nCross validation parameters ordered by score, descending:')\n",
    "scores = crossval_model_gbt.avgMetrics\n",
    "params = [{p.name: v for p, v in m.items()} for m in crossval_model_gbt.getEstimatorParamMaps()]\n",
    "params_df = pd.DataFrame(params)\n",
    "params_df['score'] = scores\n",
    "params_df.sort_values(by='score', ascending=False)"
   ]
  },
  {
   "cell_type": "markdown",
   "metadata": {},
   "source": [
    "# Final Steps\n",
    "Clean up your code, adding comments and renaming variables to make the code easier to read and maintain. Refer to the Spark Project Overview page and Data Scientist Capstone Project Rubric to make sure you are including all components of the capstone project and meet all expectations. Remember, this includes thorough documentation in a README file in a Github repository, as well as a web app or blog post."
   ]
  },
  {
   "cell_type": "code",
   "execution_count": null,
   "metadata": {},
   "outputs": [],
   "source": []
  }
 ],
 "metadata": {
  "kernelspec": {
   "display_name": "Python 3",
   "language": "python",
   "name": "python3"
  },
  "language_info": {
   "codemirror_mode": {
    "name": "ipython",
    "version": 3
   },
   "file_extension": ".py",
   "mimetype": "text/x-python",
   "name": "python",
   "nbconvert_exporter": "python",
   "pygments_lexer": "ipython3",
   "version": "3.8.10"
  }
 },
 "nbformat": 4,
 "nbformat_minor": 2
}
